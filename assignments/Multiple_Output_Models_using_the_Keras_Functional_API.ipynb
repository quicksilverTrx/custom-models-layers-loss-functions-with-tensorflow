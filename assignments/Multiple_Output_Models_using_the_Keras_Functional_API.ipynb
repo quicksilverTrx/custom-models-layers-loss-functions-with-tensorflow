{
  "nbformat": 4,
  "nbformat_minor": 0,
  "metadata": {
    "colab": {
      "name": "Multiple Output Models using the Keras Functional API.ipynb",
      "provenance": [],
      "collapsed_sections": [
        "n3k0vqSsp84t"
      ],
      "include_colab_link": true
    },
    "kernelspec": {
      "display_name": "Python 3",
      "language": "python",
      "name": "python3"
    },
    "language_info": {
      "codemirror_mode": {
        "name": "ipython",
        "version": 3
      },
      "file_extension": ".py",
      "mimetype": "text/x-python",
      "name": "python",
      "nbconvert_exporter": "python",
      "pygments_lexer": "ipython3",
      "version": "3.7.6"
    }
  },
  "cells": [
    {
      "cell_type": "markdown",
      "metadata": {
        "id": "view-in-github",
        "colab_type": "text"
      },
      "source": [
        "<a href=\"https://colab.research.google.com/github/quicksilverTrx/custom-models-layers-loss-functions-with-tensorflow/blob/main/assignments/Multiple_Output_Models_using_the_Keras_Functional_API.ipynb\" target=\"_parent\"><img src=\"https://colab.research.google.com/assets/colab-badge.svg\" alt=\"Open In Colab\"/></a>"
      ]
    },
    {
      "cell_type": "markdown",
      "metadata": {
        "id": "ZL_6GK8qX35J"
      },
      "source": [
        "\n",
        "\n",
        "# Week 1: Multiple Output Models using the Keras Functional API\n",
        "\n",
        "Welcome to the first programming assignment of the course! Your task will be to use the Keras functional API to train a model to predict two outputs. For this lab, you will use the **[Wine Quality Dataset](https://archive.ics.uci.edu/ml/datasets/Wine+Quality)** from the **UCI machine learning repository**. It has separate datasets for red wine and white wine.\n",
        "\n",
        "Normally, the wines are classified into one of the quality ratings specified in the attributes. In this exercise, you will combine the two datasets to predict the wine quality and whether the wine is red or white solely from the attributes. \n",
        "\n",
        "You will model wine quality estimations as a regression problem and wine type detection as a binary classification problem.\n",
        "\n",
        "#### Please complete sections that are marked **(TODO)**"
      ]
    },
    {
      "cell_type": "markdown",
      "metadata": {
        "id": "obdcD6urYBY9"
      },
      "source": [
        "## Imports"
      ]
    },
    {
      "cell_type": "code",
      "metadata": {
        "id": "t8N3pcTQ5oQI"
      },
      "source": [
        "import tensorflow as tf\n",
        "from tensorflow.keras.models import Model\n",
        "from tensorflow.keras.layers import Dense, Input\n",
        "\n",
        "import numpy as np\n",
        "import matplotlib.pyplot as plt\n",
        "import pandas as pd\n",
        "from sklearn.model_selection import train_test_split\n",
        "from sklearn.metrics import confusion_matrix\n",
        "import itertools\n",
        "\n",
        "import utils"
      ],
      "execution_count": null,
      "outputs": []
    },
    {
      "cell_type": "code",
      "metadata": {
        "id": "7QpmeyBdyE5M",
        "outputId": "0e31a523-1b69-403b-d61a-0f701e0d3a8c"
      },
      "source": [
        "tf.__version__"
      ],
      "execution_count": null,
      "outputs": [
        {
          "output_type": "execute_result",
          "data": {
            "text/plain": [
              "'2.1.0'"
            ]
          },
          "metadata": {
            "tags": []
          },
          "execution_count": 4
        }
      ]
    },
    {
      "cell_type": "markdown",
      "metadata": {
        "id": "gQMERzWQYpgm"
      },
      "source": [
        "## Load Dataset\n",
        "\n",
        "\n",
        "You will now download the dataset from the [UCI Machine Learning Repository](https://archive.ics.uci.edu/ml/index.php). \n",
        "\n",
        "### Pre-process the white wine dataset (TODO)\n",
        "You will add a new column named `is_red` in your dataframe to indicate if the wine is white or red. \n",
        "- In the white wine dataset, you will fill the column `is_red` with  zeros (0)."
      ]
    },
    {
      "cell_type": "code",
      "metadata": {
        "deletable": false,
        "id": "2qYAjKXCd4RH",
        "nbgrader": {
          "cell_type": "code",
          "checksum": "cb9f284ba6255170fe04a309a407d72d",
          "grade": false,
          "grade_id": "cell-e5bfa0f152d9a21f",
          "locked": false,
          "schema_version": 3,
          "solution": true,
          "task": false
        }
      },
      "source": [
        "## Please uncomment all lines in this cell and replace those marked with `# YOUR CODE HERE`.\n",
        "## You can select all lines in this code cell with Ctrl+A (Windows/Linux) or Cmd+A (Mac), then press Ctrl+/ (Windows/Linux) or Cmd+/ (Mac) to uncomment.\n",
        "\n",
        "\n",
        "\n",
        "# # URL of the white wine dataset\n",
        "# URL = 'http://archive.ics.uci.edu/ml/machine-learning-databases/wine-quality/winequality-white.csv'\n",
        "\n",
        "# # load the dataset from the URL\n",
        "# white_df = pd.read_csv(URL, sep=\";\")\n",
        "\n",
        "# # fill the `is_red` column with zeros.\n",
        "# white_df[\"is_red\"] = # YOUR CODE HERE\n",
        "\n",
        "# # keep only the first of duplicate items\n",
        "# white_df = white_df.drop_duplicates(keep='first')\n",
        "# URL of the white wine dataset\n",
        "URL = 'http://archive.ics.uci.edu/ml/machine-learning-databases/wine-quality/winequality-white.csv'\n",
        "\n",
        "# load the dataset from the URL\n",
        "white_df = pd.read_csv(URL, sep=\";\")\n",
        "\n",
        "# fill the `is_red` column with zeros.\n",
        "white_df['is_red'] = 0 # YOUR CODE HERE\n",
        "\n",
        "# keep only the first of duplicate items\n",
        "white_df = white_df.drop_duplicates(keep='first')\n"
      ],
      "execution_count": null,
      "outputs": []
    },
    {
      "cell_type": "code",
      "metadata": {
        "deletable": false,
        "editable": false,
        "nbgrader": {
          "cell_type": "code",
          "checksum": "defe38d6ec58fd31cd67b89e46c4373f",
          "grade": true,
          "grade_id": "cell-30575e713b55fc51",
          "locked": true,
          "points": 1,
          "schema_version": 3,
          "solution": false,
          "task": false
        },
        "id": "8do85QmMyE5T",
        "outputId": "6e874f8a-e5b2-4a0a-e43f-13d792cda25b"
      },
      "source": [
        "# You can click `File -> Open` in the menu above and open the `utils.py` file \n",
        "# in case you want to inspect the unit tests being used for each graded function.\n",
        "\n",
        "utils.test_white_df(white_df)\n"
      ],
      "execution_count": null,
      "outputs": [
        {
          "output_type": "stream",
          "text": [
            "\u001b[92m All public tests passed\n"
          ],
          "name": "stdout"
        }
      ]
    },
    {
      "cell_type": "code",
      "metadata": {
        "id": "OQHK0ohBQRCk",
        "outputId": "ca93e396-eb91-4324-b865-0ebd3194acef"
      },
      "source": [
        "print(white_df.alcohol[0])\n",
        "print(white_df.alcohol[100])\n",
        "\n",
        "# EXPECTED OUTPUT\n",
        "# 8.8\n",
        "# 9.1"
      ],
      "execution_count": null,
      "outputs": [
        {
          "output_type": "stream",
          "text": [
            "8.8\n",
            "9.1\n"
          ],
          "name": "stdout"
        }
      ]
    },
    {
      "cell_type": "markdown",
      "metadata": {
        "id": "DMzLHmA3yE5U"
      },
      "source": [
        "### Pre-process the red wine dataset (TODO)\n",
        "- In the red wine dataset, you will fill in the column `is_red` with ones (1)."
      ]
    },
    {
      "cell_type": "code",
      "metadata": {
        "deletable": false,
        "id": "8y3QxKwBed8v",
        "nbgrader": {
          "cell_type": "code",
          "checksum": "be72275f78e2c2d0038dde9aa63f8d4f",
          "grade": false,
          "grade_id": "cell-e47a40f306593274",
          "locked": false,
          "schema_version": 3,
          "solution": true,
          "task": false
        }
      },
      "source": [
        "## Please uncomment all lines in this cell and replace those marked with `# YOUR CODE HERE`.\n",
        "## You can select all lines in this code cell with Ctrl+A (Windows/Linux) or Cmd+A (Mac), then press Ctrl+/ (Windows/Linux) or Cmd+/ (Mac) to uncomment.\n",
        "\n",
        "\n",
        "\n",
        "# # URL of the red wine dataset\n",
        "# URL = 'http://archive.ics.uci.edu/ml/machine-learning-databases/wine-quality/winequality-red.csv'\n",
        "\n",
        "# # load the dataset from the URL\n",
        "# red_df = pd.read_csv(URL, sep=\";\")\n",
        "\n",
        "# # fill the `is_red` column with ones.\n",
        "# red_df[\"is_red\"] = # YOUR CODE HERE\n",
        "\n",
        "# # keep only the first of duplicate items\n",
        "# red_df = red_df.drop_duplicates(keep='first')\n",
        "# URL of the red wine dataset\n",
        "URL = 'http://archive.ics.uci.edu/ml/machine-learning-databases/wine-quality/winequality-red.csv'\n",
        "\n",
        "# load the dataset from the URL\n",
        "red_df = pd.read_csv(URL, sep=\";\")\n",
        "\n",
        "# fill the `is_red` column with ones.\n",
        "red_df[\"is_red\"] = 1# YOUR CODE HERE\n",
        "\n",
        "# keep only the first of duplicate items\n",
        "red_df = red_df.drop_duplicates(keep='first')"
      ],
      "execution_count": null,
      "outputs": []
    },
    {
      "cell_type": "code",
      "metadata": {
        "deletable": false,
        "editable": false,
        "nbgrader": {
          "cell_type": "code",
          "checksum": "d8e0c91b0fd668b63ba74a8f2f958b59",
          "grade": true,
          "grade_id": "cell-2a75937adcc0c25b",
          "locked": true,
          "points": 1,
          "schema_version": 3,
          "solution": false,
          "task": false
        },
        "id": "e6xUizwfyE5W",
        "outputId": "e0c22276-5844-4ee8-aa75-ee02c6f22c56"
      },
      "source": [
        "utils.test_red_df(red_df)\n"
      ],
      "execution_count": null,
      "outputs": [
        {
          "output_type": "stream",
          "text": [
            "\u001b[92m All public tests passed\n"
          ],
          "name": "stdout"
        }
      ]
    },
    {
      "cell_type": "code",
      "metadata": {
        "id": "zsB3LUzNQpo_",
        "outputId": "b2ed6a39-a765-422a-f07d-89da0fdda251"
      },
      "source": [
        "print(red_df.alcohol[0])\n",
        "print(red_df.alcohol[100])\n",
        "\n",
        "# EXPECTED OUTPUT\n",
        "# 9.4\n",
        "# 10.2"
      ],
      "execution_count": null,
      "outputs": [
        {
          "output_type": "stream",
          "text": [
            "9.4\n",
            "10.2\n"
          ],
          "name": "stdout"
        }
      ]
    },
    {
      "cell_type": "markdown",
      "metadata": {
        "id": "2G8B-NYuM6-f"
      },
      "source": [
        "### Concatenate the datasets\n",
        "\n",
        "Next, concatenate the red and white wine dataframes."
      ]
    },
    {
      "cell_type": "code",
      "metadata": {
        "id": "YpQrOjJbfN3m"
      },
      "source": [
        "df = pd.concat([red_df, white_df], ignore_index=True)"
      ],
      "execution_count": null,
      "outputs": []
    },
    {
      "cell_type": "code",
      "metadata": {
        "id": "Se2dTmThQyjb",
        "outputId": "fcab3d91-a2b7-4a2d-90fe-7bc7048137e1"
      },
      "source": [
        "print(df.alcohol[0])\n",
        "print(df.alcohol[100])\n",
        "\n",
        "# EXPECTED OUTPUT\n",
        "# 9.4\n",
        "# 9.5"
      ],
      "execution_count": null,
      "outputs": [
        {
          "output_type": "stream",
          "text": [
            "9.4\n",
            "9.5\n"
          ],
          "name": "stdout"
        }
      ]
    },
    {
      "cell_type": "code",
      "metadata": {
        "id": "wx6y3rPpQv4k"
      },
      "source": [
        "# NOTE: In a real-world scenario, you should shuffle the data.\n",
        "# YOU ARE NOT going to do that here because we want to test\n",
        "# with deterministic data. But if you want the code to do it,\n",
        "# it's in the commented line below:\n",
        "\n",
        "#df = df.iloc[np.random.permutation(len(df))]"
      ],
      "execution_count": null,
      "outputs": []
    },
    {
      "cell_type": "markdown",
      "metadata": {
        "id": "-EqIcbg5M_n1"
      },
      "source": [
        "This will chart the quality of the wines."
      ]
    },
    {
      "cell_type": "code",
      "metadata": {
        "id": "IsvK0-Sgy17C",
        "outputId": "c15a78b8-5379-4e74-cb22-721dc5b1abc4"
      },
      "source": [
        "df['quality'].hist(bins=20);"
      ],
      "execution_count": null,
      "outputs": [
        {
          "output_type": "display_data",
          "data": {
            "image/png": "[encoded data removed]",
            "text/plain": [
              "<Figure size 432x288 with 1 Axes>"
            ]
          },
          "metadata": {
            "tags": [],
            "needs_background": "light"
          }
        }
      ]
    },
    {
      "cell_type": "markdown",
      "metadata": {
        "id": "Nut1rmYLzf-p"
      },
      "source": [
        "### Imbalanced data (TODO)\n",
        "You can see from the plot above that the wine quality dataset is imbalanced. \n",
        "- Since there are very few observations with quality equal to 3, 4, 8 and 9, you can drop these observations from your dataset. \n",
        "- You can do this by removing data belonging to all classes except those > 4 and < 8."
      ]
    },
    {
      "cell_type": "code",
      "metadata": {
        "deletable": false,
        "id": "doH9_-gnf3sz",
        "nbgrader": {
          "cell_type": "code",
          "checksum": "d9ba9fc3a3ca02ccc567be33652b80fe",
          "grade": false,
          "grade_id": "cell-6a3e9db696f6827b",
          "locked": false,
          "schema_version": 3,
          "solution": true,
          "task": false
        }
      },
      "source": [
        "## Please uncomment all lines in this cell and replace those marked with `# YOUR CODE HERE`.\n",
        "## You can select all lines in this code cell with Ctrl+A (Windows/Linux) or Cmd+A (Mac), then press Ctrl+/ (Windows/Linux) or Cmd+/ (Mac) to uncomment.\n",
        "\n",
        "\n",
        "\n",
        "# # get data with wine quality greater than 4 and less than 8\n",
        "# df = df[(df['quality'] > # YOUR CODE HERE) & (df['quality'] < YOUR CODE HERE )]\n",
        "\n",
        "# # reset index and drop the old one\n",
        "# df = df.reset_index(drop=True)\n",
        "# get data with wine quality greater than 4 and less than 8\n",
        "df = df[(df['quality'] > 4) & (df['quality'] < 8 )]\n",
        "\n",
        "# reset index and drop the old one\n",
        "df = df.reset_index(drop=True)"
      ],
      "execution_count": null,
      "outputs": []
    },
    {
      "cell_type": "code",
      "metadata": {
        "deletable": false,
        "editable": false,
        "nbgrader": {
          "cell_type": "code",
          "checksum": "281e1d86a4803560ed5892cd7eda4c01",
          "grade": true,
          "grade_id": "cell-aed3da719d4682c7",
          "locked": true,
          "points": 1,
          "schema_version": 3,
          "solution": false,
          "task": false
        },
        "id": "a_EdOCPTyE5c",
        "outputId": "53ee0fb8-f85c-4be7-ab51-75c152b49b0a"
      },
      "source": [
        "utils.test_df_drop(df)\n",
        "\n"
      ],
      "execution_count": null,
      "outputs": [
        {
          "output_type": "stream",
          "text": [
            "\u001b[92m All public tests passed\n"
          ],
          "name": "stdout"
        }
      ]
    },
    {
      "cell_type": "code",
      "metadata": {
        "id": "xNR1iAlMRPXO",
        "outputId": "d64b8de8-2dc0-4274-f22c-f4e8b2f91111"
      },
      "source": [
        "print(df.alcohol[0])\n",
        "print(df.alcohol[100])\n",
        "\n",
        "# EXPECTED OUTPUT\n",
        "# 9.4\n",
        "# 10.9"
      ],
      "execution_count": null,
      "outputs": [
        {
          "output_type": "stream",
          "text": [
            "9.4\n",
            "10.9\n"
          ],
          "name": "stdout"
        }
      ]
    },
    {
      "cell_type": "markdown",
      "metadata": {
        "id": "cwhuRpnVRTzG"
      },
      "source": [
        "You can plot again to see the new range of data and quality"
      ]
    },
    {
      "cell_type": "code",
      "metadata": {
        "id": "857ygzZiLgGg",
        "outputId": "163cce49-2c3e-4c1e-9e8e-bdcaa2704847"
      },
      "source": [
        "df['quality'].hist(bins=20);"
      ],
      "execution_count": null,
      "outputs": [
        {
          "output_type": "display_data",
          "data": {
            "image/png": "[encoded data removed]",
            "text/plain": [
              "<Figure size 432x288 with 1 Axes>"
            ]
          },
          "metadata": {
            "tags": [],
            "needs_background": "light"
          }
        }
      ]
    },
    {
      "cell_type": "markdown",
      "metadata": {
        "id": "n3k0vqSsp84t"
      },
      "source": [
        "### Train Test Split (TODO)\n",
        "\n",
        "Next, you can split the datasets into training, test and validation datasets.\n",
        "- The data frame should be split 80:20 into `train` and `test` sets.\n",
        "- The resulting `train` should then be split 80:20 into `train` and `val` sets.\n",
        "- The `train_test_split` parameter `test_size` takes a float value that ranges between 0. and 1, and represents the proportion of the dataset that is allocated to the test set.  The rest of the data is allocated to the training set."
      ]
    },
    {
      "cell_type": "code",
      "metadata": {
        "deletable": false,
        "id": "PAVIf2-fgRVY",
        "nbgrader": {
          "cell_type": "code",
          "checksum": "7f5738f4fb51d65adc9a8acbdf2b9970",
          "grade": false,
          "grade_id": "cell-91946cadf745206b",
          "locked": false,
          "schema_version": 3,
          "solution": true,
          "task": false
        }
      },
      "source": [
        "## Please uncomment all lines in this cell and replace those marked with `# YOUR CODE HERE`.\n",
        "## You can select all lines in this code cell with Ctrl+A (Windows/Linux) or Cmd+A (Mac), then press Ctrl+/ (Windows/Linux) or Cmd+/ (Mac) to uncomment.\n",
        "\n",
        "\n",
        "\n",
        "## Please do not change the random_state parameter. This is needed for grading.\n",
        "\n",
        "# # split df into 80:20 train and test sets\n",
        "# train, test = train_test_split(df, test_size=# YOUR CODE HERE, random_state = 1)\n",
        "                               \n",
        "# # split train into 80:20 train and val sets\n",
        "# train, val = train_test_split(train, test_size=# YOUR CODE HERE, random_state = 1)\n",
        "# split df into 80:20 train and test sets\n",
        "train, test = train_test_split(df, test_size=.2, random_state = 1)\n",
        "                               \n",
        "# split train into 80:20 train and val sets\n",
        "train, val = train_test_split(train, test_size=.2, random_state = 1)"
      ],
      "execution_count": null,
      "outputs": []
    },
    {
      "cell_type": "code",
      "metadata": {
        "deletable": false,
        "editable": false,
        "id": "57h9LcEzRWpk",
        "nbgrader": {
          "cell_type": "code",
          "checksum": "42adbe9e66efac7c7a5f8cd73ac92f22",
          "grade": true,
          "grade_id": "cell-64b8b38cd0b965f6",
          "locked": true,
          "points": 1,
          "schema_version": 3,
          "solution": false,
          "task": false
        },
        "outputId": "6446a302-1ff6-4081-8800-5dff15f5e5d9"
      },
      "source": [
        "utils.test_data_sizes(train.size, test.size, val.size)\n",
        "\n"
      ],
      "execution_count": null,
      "outputs": [
        {
          "output_type": "stream",
          "text": [
            "\u001b[92m All public tests passed\n"
          ],
          "name": "stdout"
        }
      ]
    },
    {
      "cell_type": "markdown",
      "metadata": {
        "id": "RwTNu4KFqG-K"
      },
      "source": [
        "Here's where you can explore the training stats. You can pop the labels 'is_red' and 'quality' from the data as these will be used as the labels\n"
      ]
    },
    {
      "cell_type": "code",
      "metadata": {
        "id": "Y_afyhhHM6WQ"
      },
      "source": [
        "train_stats = train.describe()\n",
        "train_stats.pop('is_red')\n",
        "train_stats.pop('quality')\n",
        "train_stats = train_stats.transpose()"
      ],
      "execution_count": null,
      "outputs": []
    },
    {
      "cell_type": "markdown",
      "metadata": {
        "id": "ahvbYm4fNqSt"
      },
      "source": [
        "Explore the training stats!"
      ]
    },
    {
      "cell_type": "code",
      "metadata": {
        "id": "n_gAtPjZ0otF",
        "outputId": "08e9a081-a9d7-475a-c31a-01fac9c6f033"
      },
      "source": [
        "train_stats"
      ],
      "execution_count": null,
      "outputs": [
        {
          "output_type": "execute_result",
          "data": {
            "text/html": [
              "<div>\n",
              "<style scoped>\n",
              "    .dataframe tbody tr th:only-of-type {\n",
              "        vertical-align: middle;\n",
              "    }\n",
              "\n",
              "    .dataframe tbody tr th {\n",
              "        vertical-align: top;\n",
              "    }\n",
              "\n",
              "    .dataframe thead th {\n",
              "        text-align: right;\n",
              "    }\n",
              "</style>\n",
              "<table border=\"1\" class=\"dataframe\">\n",
              "  <thead>\n",
              "    <tr style=\"text-align: right;\">\n",
              "      <th></th>\n",
              "      <th>count</th>\n",
              "      <th>mean</th>\n",
              "      <th>std</th>\n",
              "      <th>min</th>\n",
              "      <th>25%</th>\n",
              "      <th>50%</th>\n",
              "      <th>75%</th>\n",
              "      <th>max</th>\n",
              "    </tr>\n",
              "  </thead>\n",
              "  <tbody>\n",
              "    <tr>\n",
              "      <th>fixed acidity</th>\n",
              "      <td>3155.0</td>\n",
              "      <td>7.221616</td>\n",
              "      <td>1.325297</td>\n",
              "      <td>3.80000</td>\n",
              "      <td>6.40000</td>\n",
              "      <td>7.00000</td>\n",
              "      <td>7.7000</td>\n",
              "      <td>15.60000</td>\n",
              "    </tr>\n",
              "    <tr>\n",
              "      <th>volatile acidity</th>\n",
              "      <td>3155.0</td>\n",
              "      <td>0.338929</td>\n",
              "      <td>0.162476</td>\n",
              "      <td>0.08000</td>\n",
              "      <td>0.23000</td>\n",
              "      <td>0.29000</td>\n",
              "      <td>0.4000</td>\n",
              "      <td>1.24000</td>\n",
              "    </tr>\n",
              "    <tr>\n",
              "      <th>citric acid</th>\n",
              "      <td>3155.0</td>\n",
              "      <td>0.321569</td>\n",
              "      <td>0.147970</td>\n",
              "      <td>0.00000</td>\n",
              "      <td>0.25000</td>\n",
              "      <td>0.31000</td>\n",
              "      <td>0.4000</td>\n",
              "      <td>1.66000</td>\n",
              "    </tr>\n",
              "    <tr>\n",
              "      <th>residual sugar</th>\n",
              "      <td>3155.0</td>\n",
              "      <td>5.155911</td>\n",
              "      <td>4.639632</td>\n",
              "      <td>0.60000</td>\n",
              "      <td>1.80000</td>\n",
              "      <td>2.80000</td>\n",
              "      <td>7.6500</td>\n",
              "      <td>65.80000</td>\n",
              "    </tr>\n",
              "    <tr>\n",
              "      <th>chlorides</th>\n",
              "      <td>3155.0</td>\n",
              "      <td>0.056976</td>\n",
              "      <td>0.036802</td>\n",
              "      <td>0.01200</td>\n",
              "      <td>0.03800</td>\n",
              "      <td>0.04700</td>\n",
              "      <td>0.0660</td>\n",
              "      <td>0.61100</td>\n",
              "    </tr>\n",
              "    <tr>\n",
              "      <th>free sulfur dioxide</th>\n",
              "      <td>3155.0</td>\n",
              "      <td>30.388590</td>\n",
              "      <td>17.236784</td>\n",
              "      <td>1.00000</td>\n",
              "      <td>17.00000</td>\n",
              "      <td>28.00000</td>\n",
              "      <td>41.0000</td>\n",
              "      <td>131.00000</td>\n",
              "    </tr>\n",
              "    <tr>\n",
              "      <th>total sulfur dioxide</th>\n",
              "      <td>3155.0</td>\n",
              "      <td>115.062282</td>\n",
              "      <td>56.706617</td>\n",
              "      <td>6.00000</td>\n",
              "      <td>75.00000</td>\n",
              "      <td>117.00000</td>\n",
              "      <td>156.0000</td>\n",
              "      <td>344.00000</td>\n",
              "    </tr>\n",
              "    <tr>\n",
              "      <th>density</th>\n",
              "      <td>3155.0</td>\n",
              "      <td>0.994633</td>\n",
              "      <td>0.003005</td>\n",
              "      <td>0.98711</td>\n",
              "      <td>0.99232</td>\n",
              "      <td>0.99481</td>\n",
              "      <td>0.9968</td>\n",
              "      <td>1.03898</td>\n",
              "    </tr>\n",
              "    <tr>\n",
              "      <th>pH</th>\n",
              "      <td>3155.0</td>\n",
              "      <td>3.223201</td>\n",
              "      <td>0.161272</td>\n",
              "      <td>2.72000</td>\n",
              "      <td>3.11000</td>\n",
              "      <td>3.21000</td>\n",
              "      <td>3.3300</td>\n",
              "      <td>4.01000</td>\n",
              "    </tr>\n",
              "    <tr>\n",
              "      <th>sulphates</th>\n",
              "      <td>3155.0</td>\n",
              "      <td>0.534051</td>\n",
              "      <td>0.149149</td>\n",
              "      <td>0.22000</td>\n",
              "      <td>0.43000</td>\n",
              "      <td>0.51000</td>\n",
              "      <td>0.6000</td>\n",
              "      <td>1.95000</td>\n",
              "    </tr>\n",
              "    <tr>\n",
              "      <th>alcohol</th>\n",
              "      <td>3155.0</td>\n",
              "      <td>10.504466</td>\n",
              "      <td>1.154654</td>\n",
              "      <td>8.50000</td>\n",
              "      <td>9.50000</td>\n",
              "      <td>10.30000</td>\n",
              "      <td>11.3000</td>\n",
              "      <td>14.00000</td>\n",
              "    </tr>\n",
              "  </tbody>\n",
              "</table>\n",
              "</div>"
            ],
            "text/plain": [
              "                       count        mean        std      min       25%  \\\n",
              "fixed acidity         3155.0    7.221616   1.325297  3.80000   6.40000   \n",
              "volatile acidity      3155.0    0.338929   0.162476  0.08000   0.23000   \n",
              "citric acid           3155.0    0.321569   0.147970  0.00000   0.25000   \n",
              "residual sugar        3155.0    5.155911   4.639632  0.60000   1.80000   \n",
              "chlorides             3155.0    0.056976   0.036802  0.01200   0.03800   \n",
              "free sulfur dioxide   3155.0   30.388590  17.236784  1.00000  17.00000   \n",
              "total sulfur dioxide  3155.0  115.062282  56.706617  6.00000  75.00000   \n",
              "density               3155.0    0.994633   0.003005  0.98711   0.99232   \n",
              "pH                    3155.0    3.223201   0.161272  2.72000   3.11000   \n",
              "sulphates             3155.0    0.534051   0.149149  0.22000   0.43000   \n",
              "alcohol               3155.0   10.504466   1.154654  8.50000   9.50000   \n",
              "\n",
              "                            50%       75%        max  \n",
              "fixed acidity           7.00000    7.7000   15.60000  \n",
              "volatile acidity        0.29000    0.4000    1.24000  \n",
              "citric acid             0.31000    0.4000    1.66000  \n",
              "residual sugar          2.80000    7.6500   65.80000  \n",
              "chlorides               0.04700    0.0660    0.61100  \n",
              "free sulfur dioxide    28.00000   41.0000  131.00000  \n",
              "total sulfur dioxide  117.00000  156.0000  344.00000  \n",
              "density                 0.99481    0.9968    1.03898  \n",
              "pH                      3.21000    3.3300    4.01000  \n",
              "sulphates               0.51000    0.6000    1.95000  \n",
              "alcohol                10.30000   11.3000   14.00000  "
            ]
          },
          "metadata": {
            "tags": []
          },
          "execution_count": 22
        }
      ]
    },
    {
      "cell_type": "markdown",
      "metadata": {
        "id": "bGPvt9jir_HC"
      },
      "source": [
        "### Get the labels (TODO)\n",
        "\n",
        "The features and labels are currently in the same dataframe.\n",
        "- You will want to store the label columns `is_red` and `quality` separately from the feature columns.  \n",
        "- The following function, `format_output`, gets these two columns from the dataframe (it's given to you).\n",
        "- `format_output` also formats the data into numpy arrays. \n",
        "- Please use the `format_output` and apply it to the `train`, `val` and `test` sets to get dataframes for the labels."
      ]
    },
    {
      "cell_type": "code",
      "metadata": {
        "id": "Z_fs14XQqZVP"
      },
      "source": [
        "def format_output(data):\n",
        "    is_red = data.pop('is_red')\n",
        "    is_red = np.array(is_red)\n",
        "    quality = data.pop('quality')\n",
        "    quality = np.array(quality)\n",
        "    return (quality, is_red)"
      ],
      "execution_count": null,
      "outputs": []
    },
    {
      "cell_type": "code",
      "metadata": {
        "deletable": false,
        "id": "8L3ZZe1fQicm",
        "nbgrader": {
          "cell_type": "code",
          "checksum": "7a86809e54895a816434c48dc903f55d",
          "grade": false,
          "grade_id": "cell-5c30fa2c2a354b0f",
          "locked": false,
          "schema_version": 3,
          "solution": true,
          "task": false
        }
      },
      "source": [
        "## Please uncomment all lines in this cell and replace those marked with `# YOUR CODE HERE`.\n",
        "## You can select all lines in this code cell with Ctrl+A (Windows/Linux) or Cmd+A (Mac), then press Ctrl+/ (Windows/Linux) or Cmd+/ (Mac) to uncomment.\n",
        "\n",
        "\n",
        "\n",
        "# # format the output of the train set\n",
        "# train_Y = format_output(# YOUR CODE HERE)\n",
        "\n",
        "# # format the output of the val set\n",
        "# val_Y = format_output(# YOUR CODE HERE)\n",
        "    \n",
        "# # format the output of the test set\n",
        "# test_Y = format_output(# YOUR CODE HERE)\n",
        "# format the output of the train set\n",
        "train_Y = format_output(train)\n",
        "\n",
        "# format the output of the val set\n",
        "val_Y = format_output(val)\n",
        "    \n",
        "# format the output of the test set\n",
        "test_Y = format_output(test)"
      ],
      "execution_count": null,
      "outputs": []
    },
    {
      "cell_type": "code",
      "metadata": {
        "deletable": false,
        "editable": false,
        "nbgrader": {
          "cell_type": "code",
          "checksum": "359cabbafaed14ec9bbc1e57a7b6f32c",
          "grade": true,
          "grade_id": "cell-4977d8befb80f56b",
          "locked": true,
          "points": 1,
          "schema_version": 3,
          "solution": false,
          "task": false
        },
        "id": "5g_S_q5XyE5o",
        "outputId": "96378d34-586e-4a82-feff-05cc52b558ec"
      },
      "source": [
        "utils.test_format_output(df, train_Y, val_Y, test_Y)"
      ],
      "execution_count": null,
      "outputs": [
        {
          "output_type": "stream",
          "text": [
            "\u001b[92m All public tests passed\n"
          ],
          "name": "stdout"
        }
      ]
    },
    {
      "cell_type": "markdown",
      "metadata": {
        "id": "7IN8mwUMyE5q"
      },
      "source": [
        "Notice that after you get the labels, the `train`, `val` and `test` dataframes no longer contain the label columns, and contain just the feature columns.\n",
        "- This is because you used `.pop` in the `format_output` function."
      ]
    },
    {
      "cell_type": "code",
      "metadata": {
        "id": "jageMZROyE5q",
        "outputId": "7793fc14-d6b2-491a-d4df-2c444ae81323"
      },
      "source": [
        "train.head()"
      ],
      "execution_count": null,
      "outputs": [
        {
          "output_type": "execute_result",
          "data": {
            "text/html": [
              "<div>\n",
              "<style scoped>\n",
              "    .dataframe tbody tr th:only-of-type {\n",
              "        vertical-align: middle;\n",
              "    }\n",
              "\n",
              "    .dataframe tbody tr th {\n",
              "        vertical-align: top;\n",
              "    }\n",
              "\n",
              "    .dataframe thead th {\n",
              "        text-align: right;\n",
              "    }\n",
              "</style>\n",
              "<table border=\"1\" class=\"dataframe\">\n",
              "  <thead>\n",
              "    <tr style=\"text-align: right;\">\n",
              "      <th></th>\n",
              "      <th>fixed acidity</th>\n",
              "      <th>volatile acidity</th>\n",
              "      <th>citric acid</th>\n",
              "      <th>residual sugar</th>\n",
              "      <th>chlorides</th>\n",
              "      <th>free sulfur dioxide</th>\n",
              "      <th>total sulfur dioxide</th>\n",
              "      <th>density</th>\n",
              "      <th>pH</th>\n",
              "      <th>sulphates</th>\n",
              "      <th>alcohol</th>\n",
              "    </tr>\n",
              "  </thead>\n",
              "  <tbody>\n",
              "    <tr>\n",
              "      <th>225</th>\n",
              "      <td>7.5</td>\n",
              "      <td>0.65</td>\n",
              "      <td>0.18</td>\n",
              "      <td>7.0</td>\n",
              "      <td>0.088</td>\n",
              "      <td>27.0</td>\n",
              "      <td>94.0</td>\n",
              "      <td>0.99915</td>\n",
              "      <td>3.38</td>\n",
              "      <td>0.77</td>\n",
              "      <td>9.4</td>\n",
              "    </tr>\n",
              "    <tr>\n",
              "      <th>3557</th>\n",
              "      <td>6.3</td>\n",
              "      <td>0.27</td>\n",
              "      <td>0.29</td>\n",
              "      <td>12.2</td>\n",
              "      <td>0.044</td>\n",
              "      <td>59.0</td>\n",
              "      <td>196.0</td>\n",
              "      <td>0.99782</td>\n",
              "      <td>3.14</td>\n",
              "      <td>0.40</td>\n",
              "      <td>8.8</td>\n",
              "    </tr>\n",
              "    <tr>\n",
              "      <th>3825</th>\n",
              "      <td>8.8</td>\n",
              "      <td>0.27</td>\n",
              "      <td>0.25</td>\n",
              "      <td>5.0</td>\n",
              "      <td>0.024</td>\n",
              "      <td>52.0</td>\n",
              "      <td>99.0</td>\n",
              "      <td>0.99250</td>\n",
              "      <td>2.87</td>\n",
              "      <td>0.49</td>\n",
              "      <td>11.4</td>\n",
              "    </tr>\n",
              "    <tr>\n",
              "      <th>1740</th>\n",
              "      <td>6.4</td>\n",
              "      <td>0.45</td>\n",
              "      <td>0.07</td>\n",
              "      <td>1.1</td>\n",
              "      <td>0.030</td>\n",
              "      <td>10.0</td>\n",
              "      <td>131.0</td>\n",
              "      <td>0.99050</td>\n",
              "      <td>2.97</td>\n",
              "      <td>0.28</td>\n",
              "      <td>10.8</td>\n",
              "    </tr>\n",
              "    <tr>\n",
              "      <th>1221</th>\n",
              "      <td>7.2</td>\n",
              "      <td>0.53</td>\n",
              "      <td>0.13</td>\n",
              "      <td>2.0</td>\n",
              "      <td>0.058</td>\n",
              "      <td>18.0</td>\n",
              "      <td>22.0</td>\n",
              "      <td>0.99573</td>\n",
              "      <td>3.21</td>\n",
              "      <td>0.68</td>\n",
              "      <td>9.9</td>\n",
              "    </tr>\n",
              "  </tbody>\n",
              "</table>\n",
              "</div>"
            ],
            "text/plain": [
              "      fixed acidity  volatile acidity  citric acid  residual sugar  chlorides  \\\n",
              "225             7.5              0.65         0.18             7.0      0.088   \n",
              "3557            6.3              0.27         0.29            12.2      0.044   \n",
              "3825            8.8              0.27         0.25             5.0      0.024   \n",
              "1740            6.4              0.45         0.07             1.1      0.030   \n",
              "1221            7.2              0.53         0.13             2.0      0.058   \n",
              "\n",
              "      free sulfur dioxide  total sulfur dioxide  density    pH  sulphates  \\\n",
              "225                  27.0                  94.0  0.99915  3.38       0.77   \n",
              "3557                 59.0                 196.0  0.99782  3.14       0.40   \n",
              "3825                 52.0                  99.0  0.99250  2.87       0.49   \n",
              "1740                 10.0                 131.0  0.99050  2.97       0.28   \n",
              "1221                 18.0                  22.0  0.99573  3.21       0.68   \n",
              "\n",
              "      alcohol  \n",
              "225       9.4  \n",
              "3557      8.8  \n",
              "3825     11.4  \n",
              "1740     10.8  \n",
              "1221      9.9  "
            ]
          },
          "metadata": {
            "tags": []
          },
          "execution_count": 26
        }
      ]
    },
    {
      "cell_type": "markdown",
      "metadata": {
        "id": "hEdbrruAsN1D"
      },
      "source": [
        "### Normalize the data (TODO)\n",
        "\n",
        "Next, you can normalize the data, x, using the formula:\n",
        "$$x_{norm} = \\frac{x - \\mu}{\\sigma}$$\n",
        "- The `norm` function is defined for you.\n",
        "- Please apply the `norm` function to normalize the dataframes that contains the feature columns of `train`, `val` and `test` sets."
      ]
    },
    {
      "cell_type": "code",
      "metadata": {
        "id": "WWiZPAHCLjUs"
      },
      "source": [
        "def norm(x):\n",
        "    return (x - train_stats['mean']) / train_stats['std']"
      ],
      "execution_count": null,
      "outputs": []
    },
    {
      "cell_type": "code",
      "metadata": {
        "deletable": false,
        "id": "JEaOi2I2Lk69",
        "nbgrader": {
          "cell_type": "code",
          "checksum": "6bc0cdcb563d192f271067aa3373ff32",
          "grade": false,
          "grade_id": "cell-d8416d975c371095",
          "locked": false,
          "schema_version": 3,
          "solution": true,
          "task": false
        }
      },
      "source": [
        "## Please uncomment all lines in this cell and replace those marked with `# YOUR CODE HERE`.\n",
        "## You can select all lines in this code cell with Ctrl+A (Windows/Linux) or Cmd+A (Mac), then press Ctrl+/ (Windows/Linux) or Cmd+/ (Mac) to uncomment.\n",
        "\n",
        "\n",
        "\n",
        "# # normalize the train set\n",
        "# norm_train_X = norm(# YOUR CODE HERE)\n",
        "    \n",
        "# # normalize the val set\n",
        "# norm_val_X = norm(# YOUR CODE HERE)\n",
        "    \n",
        "# # normalize the test set\n",
        "# norm_test_X = norm(# YOUR CODE HERE)\n",
        "norm_train_X = norm(train)\n",
        "    \n",
        "# normalize the val set\n",
        "norm_val_X = norm(val)\n",
        "    \n",
        "# normalize the test set\n",
        "norm_test_X = norm(test)"
      ],
      "execution_count": null,
      "outputs": []
    },
    {
      "cell_type": "code",
      "metadata": {
        "deletable": false,
        "editable": false,
        "nbgrader": {
          "cell_type": "code",
          "checksum": "4f567db45bf40191601780379cc100b8",
          "grade": true,
          "grade_id": "cell-97fad979d157529b",
          "locked": true,
          "points": 1,
          "schema_version": 3,
          "solution": false,
          "task": false
        },
        "id": "-jypoZ0_yE5t",
        "outputId": "9d30a0a3-a8fa-4174-8f6d-656cce54205a"
      },
      "source": [
        "utils.test_norm(norm_train_X, norm_val_X, norm_test_X, train, val, test)\n"
      ],
      "execution_count": null,
      "outputs": [
        {
          "output_type": "stream",
          "text": [
            "\u001b[92m All public tests passed\n"
          ],
          "name": "stdout"
        }
      ]
    },
    {
      "cell_type": "markdown",
      "metadata": {
        "id": "hzykDwQhsaPO"
      },
      "source": [
        "## Define the Model (TODO)\n",
        "\n",
        "Define the model using the functional API. The base model will be 2 `Dense` layers of 128 neurons each, and have the `'relu'` activation.\n",
        "- Check out the documentation for [tf.keras.layers.Dense](https://www.tensorflow.org/api_docs/python/tf/keras/layers/Dense)"
      ]
    },
    {
      "cell_type": "code",
      "metadata": {
        "deletable": false,
        "id": "Rhcns3oTFkM6",
        "nbgrader": {
          "cell_type": "code",
          "checksum": "74b031247e569526552bf13a034a1c07",
          "grade": false,
          "grade_id": "cell-73fceedad1fe351c",
          "locked": false,
          "schema_version": 3,
          "solution": true,
          "task": false
        }
      },
      "source": [
        "## Please uncomment all lines in this cell and replace those marked with `# YOUR CODE HERE`.\n",
        "## You can select all lines in this code cell with Ctrl+A (Windows/Linux) or Cmd+A (Mac), then press Ctrl+/ (Windows/Linux) or Cmd+/ (Mac) to uncomment.\n",
        "\n",
        "\n",
        "\n",
        "# def base_model(inputs):\n",
        "    \n",
        "#     # connect a Dense layer with 128 neurons and a relu activation\n",
        "#     x = # YOUR CODE HERE\n",
        "    \n",
        "#     # connect another Dense layer with 128 neurons and a relu activation\n",
        "#     x = # YOUR CODE HERE\n",
        "#     return x\n",
        "def base_model(inputs):\n",
        "    \n",
        "    # connect a Dense layer with 128 neurons and a relu activation\n",
        "    x = Dense(128,activation='relu')(inputs)\n",
        "    \n",
        "    # connect another Dense layer with 128 neurons and a relu activation\n",
        "    x = Dense(128,activation='relu')(x)# YOUR CODE HERE\n",
        "    return x"
      ],
      "execution_count": null,
      "outputs": []
    },
    {
      "cell_type": "code",
      "metadata": {
        "deletable": false,
        "editable": false,
        "nbgrader": {
          "cell_type": "code",
          "checksum": "9255924b3def80f679616e4c851a43e1",
          "grade": true,
          "grade_id": "cell-54f742a133353d75",
          "locked": true,
          "points": 1,
          "schema_version": 3,
          "solution": false,
          "task": false
        },
        "id": "r3i4N-r4yE5v",
        "outputId": "f16c609e-3beb-4eef-9aad-ce5af17aae22"
      },
      "source": [
        "utils.test_base_model(base_model)"
      ],
      "execution_count": null,
      "outputs": [
        {
          "output_type": "stream",
          "text": [
            "\u001b[92m All public tests passed\n"
          ],
          "name": "stdout"
        }
      ]
    },
    {
      "cell_type": "markdown",
      "metadata": {
        "id": "xem_fcVws6Kz"
      },
      "source": [
        "# Define output layers of the model (TODO)\n",
        "\n",
        "You will add output layers to the base model. \n",
        "- The model will need two outputs.\n",
        "\n",
        "One output layer will predict wine quality, which is a numeric value.\n",
        "- Define a `Dense` layer with 1 neuron.\n",
        "- Since this is a regression output, the activation can be left as its default value `None`.\n",
        "\n",
        "The other output layer will predict the wine type, which is either red `1` or not red `0` (white).\n",
        "- Define a `Dense` layer with 1 neuron.\n",
        "- Since there are two possible categories, you can use a sigmoid activation for binary classification.\n",
        "\n",
        "Define the `Model`\n",
        "- Define the `Model` object, and set the following parameters:\n",
        "  - `inputs`: pass in the inputs to the model as a list.\n",
        "  - `outputs`: pass in a list of the outputs that you just defined: wine quality, then wine type.\n",
        "  - **Note**: please list the wine quality before wine type in the outputs, as this will affect the calculated loss if you choose the other order."
      ]
    },
    {
      "cell_type": "code",
      "metadata": {
        "deletable": false,
        "id": "n5UGF8PMVLPt",
        "nbgrader": {
          "cell_type": "code",
          "checksum": "76d35b90d20cdcbb22986cd8211057de",
          "grade": false,
          "grade_id": "cell-19e285f482f021fb",
          "locked": false,
          "schema_version": 3,
          "solution": true,
          "task": false
        }
      },
      "source": [
        "## Please uncomment all lines in this cell and replace those marked with `# YOUR CODE HERE`.\n",
        "## You can select all lines in this code cell with Ctrl+A (Windows/Linux) or Cmd+A (Mac), then press Ctrl+/ (Windows/Linux) or Cmd+/ (Mac) to uncomment.\n",
        "\n",
        "\n",
        "\n",
        "# def final_model(inputs):\n",
        "    \n",
        "#     # get the base model\n",
        "#     x = base_model(inputs)\n",
        "\n",
        "#     # connect the output Dense layer for regression\n",
        "#     wine_quality = Dense(units='1', name='wine_quality')(x)\n",
        "\n",
        "#     # connect the output Dense layer for classification. this will use a sigmoid activation.\n",
        "#     wine_type = Dense(units='1', activation=# YOUR CODE HERE, name='wine_type')(x)\n",
        "\n",
        "#     # define the model using the input and output layers\n",
        "#     model = Model(inputs=# YOUR CODE HERE, outputs=# YOUR CODE HERE)\n",
        "\n",
        "#     return model\n",
        "def final_model(inputs):\n",
        "    \n",
        "    # get the base model\n",
        "    x = base_model(inputs)\n",
        "\n",
        "    # connect the output Dense layer for regression\n",
        "    wine_quality = Dense(units='1', name='wine_quality')(x)\n",
        "\n",
        "    # connect the output Dense layer for classification. this will use a sigmoid activation.\n",
        "    wine_type = Dense(units='1', activation='sigmoid', name='wine_type')(x)\n",
        "\n",
        "    # define the model using the input and output layers\n",
        "    model = Model(inputs=inputs, outputs=[wine_quality,wine_type])\n",
        "\n",
        "    return model"
      ],
      "execution_count": null,
      "outputs": []
    },
    {
      "cell_type": "code",
      "metadata": {
        "deletable": false,
        "editable": false,
        "nbgrader": {
          "cell_type": "code",
          "checksum": "89cbf89d8ab5e2e59ecf7f63f517520a",
          "grade": true,
          "grade_id": "cell-40d050f855c817d1",
          "locked": true,
          "points": 1,
          "schema_version": 3,
          "solution": false,
          "task": false
        },
        "id": "XyGmKaw0yE5w",
        "outputId": "d6437475-5741-4ed5-dfcc-2490ca72fc0a"
      },
      "source": [
        "utils.test_final_model(final_model)"
      ],
      "execution_count": null,
      "outputs": [
        {
          "output_type": "stream",
          "text": [
            "\u001b[92m All public tests passed\n"
          ],
          "name": "stdout"
        }
      ]
    },
    {
      "cell_type": "markdown",
      "metadata": {
        "id": "5R0BMTsltZyu"
      },
      "source": [
        "## Compiling the Model\n",
        "\n",
        "Next, compile the model. When setting the loss parameter of `model.compile`, you're setting the loss for each of the two outputs (wine quality and wine type).\n",
        "\n",
        "To set more than one loss, use a dictionary of key-value pairs.\n",
        "- You can look at the docs for the losses [here](https://www.tensorflow.org/api_docs/python/tf/keras/losses#functions).\n",
        "    - **Note**: For the desired spelling, please look at the \"Functions\" section of the documentation and not the \"classes\" section on that same page.\n",
        "- wine_type: Since you will be performing binary classification on wine type, you should use the binary crossentropy loss function for it.  Please pass this in as a string.  \n",
        "  - **Hint**, this should be all lowercase.  In the documentation, you'll see this under the \"Functions\" section, not the \"Classes\" section.\n",
        "- wine_quality: since this is a regression output, use the mean squared error.  Please pass it in as a string, all lowercase.\n",
        "  - **Hint**: You may notice that there are two aliases for mean squared error.  Please use the shorter name.\n",
        "\n",
        "\n",
        "You will also set the metric for each of the two outputs.  Again, to set metrics for two or more outputs, use a dictionary with key value pairs.\n",
        "- The metrics documentation is linked [here](https://www.tensorflow.org/api_docs/python/tf/keras/metrics).\n",
        "- For the wine type, please set it to accuracy as a string, all lowercase.\n",
        "- For wine quality, please use the root mean squared error.  Instead of a string, you'll set it to an instance of the class [RootMeanSquaredError](https://www.tensorflow.org/api_docs/python/tf/keras/metrics/RootMeanSquaredError), which belongs to the tf.keras.metrics module.\n",
        "\n",
        "**Note**: If you see the error message \n",
        ">Exception: wine quality loss function is incorrect.\n",
        "\n",
        "- Please also check your other losses and metrics, as the error may be caused by the other three key-value pairs and not the wine quality loss."
      ]
    },
    {
      "cell_type": "code",
      "metadata": {
        "deletable": false,
        "id": "LK11duUbUjmh",
        "nbgrader": {
          "cell_type": "code",
          "checksum": "22f45067ca69eb2ccadb43874dbcc27b",
          "grade": false,
          "grade_id": "cell-81afdc4dcca51d5e",
          "locked": false,
          "schema_version": 3,
          "solution": true,
          "task": false
        }
      },
      "source": [
        "## Please uncomment all lines in this cell and replace those marked with `# YOUR CODE HERE`.\n",
        "## You can select all lines in this code cell with Ctrl+A (Windows/Linux) or Cmd+A (Mac), then press Ctrl+/ (Windows/Linux) or Cmd+/ (Mac) to uncomment.\n",
        "\n",
        "\n",
        "\n",
        "# inputs = tf.keras.layers.Input(shape=(11,))\n",
        "# rms = tf.keras.optimizers.RMSprop(lr=0.0001)\n",
        "# model = final_model(inputs)\n",
        "\n",
        "# model.compile(optimizer=rms, \n",
        "#               loss = {'wine_type' : # YOUR CODE HERE,\n",
        "#                       'wine_quality' : # YOUR CODE HERE\n",
        "#                      },\n",
        "#               metrics = {'wine_type' : # YOUR CODE HERE,\n",
        "#                          'wine_quality': # YOUR CODE HERE\n",
        "#                        }\n",
        "#              )\n",
        "inputs = tf.keras.layers.Input(shape=(11,))\n",
        "rms = tf.keras.optimizers.RMSprop(lr=0.0001)\n",
        "model = final_model(inputs)\n",
        "m = tf.keras.metrics.RootMeanSquaredError()\n",
        "model.compile(optimizer=rms, \n",
        "              loss = {'wine_type' :\"binary_crossentropy\" , # YOUR CODE HERE,\n",
        "                      'wine_quality' :\"mean_squared_error\" # YOUR CODE HERE\n",
        "                     },\n",
        "              metrics = {'wine_type' : \"accuracy\", # YOUR CODE HERE,\n",
        "                         'wine_quality':  m# YOUR CODE HERE\n",
        "                       }\n",
        "             )"
      ],
      "execution_count": null,
      "outputs": []
    },
    {
      "cell_type": "code",
      "metadata": {
        "deletable": false,
        "editable": false,
        "nbgrader": {
          "cell_type": "code",
          "checksum": "88e02238ea5e456ff65e835cc8158054",
          "grade": true,
          "grade_id": "cell-2eeeba02391c4632",
          "locked": true,
          "points": 1,
          "schema_version": 3,
          "solution": false,
          "task": false
        },
        "id": "ERad0bRDyE5x",
        "outputId": "3392fd1f-9b59-4ebc-f371-ea945102f8b2"
      },
      "source": [
        "utils.test_model_compile(model)"
      ],
      "execution_count": null,
      "outputs": [
        {
          "output_type": "stream",
          "text": [
            "\u001b[92m All public tests passed\n"
          ],
          "name": "stdout"
        }
      ]
    },
    {
      "cell_type": "markdown",
      "metadata": {
        "id": "90MpAMpWuKm-"
      },
      "source": [
        "## Training the Model\n",
        "\n",
        "Fit the model to the training inputs and outputs. \n",
        "- Check the documentation for [model.fit](https://www.tensorflow.org/api_docs/python/tf/keras/Model#fit).\n",
        "- Remember to use the normalized training set as inputs. \n",
        "- For the validation data, please use the normalized validation set."
      ]
    },
    {
      "cell_type": "code",
      "metadata": {
        "deletable": false,
        "id": "_eiZkle4XwiY",
        "nbgrader": {
          "cell_type": "code",
          "checksum": "2ca7664be03bfd6fd3651ae44d17b793",
          "grade": false,
          "grade_id": "cell-0bb56262896f6680",
          "locked": false,
          "schema_version": 3,
          "solution": true,
          "task": false
        },
        "outputId": "f961fb60-1e6c-42a7-e9c1-ce8868f70139"
      },
      "source": [
        "## Please uncomment all lines in this cell and replace those marked with `# YOUR CODE HERE`.\n",
        "## You can select all lines in this code cell with Ctrl+A (Windows/Linux) or Cmd+A (Mac), then press Ctrl+/ (Windows/Linux) or Cmd+/ (Mac) to uncomment.\n",
        "\n",
        "\n",
        "\n",
        "# history = model.fit(# YOUR CODE HERE, # YOUR CODE HERE,\n",
        "#                     epochs = 180, validation_data=(# YOUR CODE HERE, # YOUR CODE HERE))\n",
        "history = model.fit(norm_train_X, train_Y,\n",
        "                    epochs = 180, validation_data=(norm_val_X,val_Y))"
      ],
      "execution_count": null,
      "outputs": [
        {
          "output_type": "stream",
          "text": [
            "Train on 3155 samples, validate on 789 samples\n",
            "Epoch 1/180\n",
            "3155/3155 [==============================] - 1s 323us/sample - loss: 23.0983 - wine_quality_loss: 22.4113 - wine_type_loss: 0.6557 - wine_quality_root_mean_squared_error: 4.7373 - wine_type_accuracy: 0.6700 - val_loss: 15.3191 - val_wine_quality_loss: 14.7096 - val_wine_type_loss: 0.6288 - val_wine_quality_root_mean_squared_error: 3.8328 - val_wine_type_accuracy: 0.7541\n",
            "Epoch 2/180\n",
            "3155/3155 [==============================] - 0s 94us/sample - loss: 9.5184 - wine_quality_loss: 8.9170 - wine_type_loss: 0.5868 - wine_quality_root_mean_squared_error: 2.9885 - wine_type_accuracy: 0.7794 - val_loss: 5.0253 - val_wine_quality_loss: 4.5199 - val_wine_type_loss: 0.5367 - val_wine_quality_root_mean_squared_error: 2.1186 - val_wine_type_accuracy: 0.7744\n",
            "Epoch 3/180\n",
            "3155/3155 [==============================] - 0s 92us/sample - loss: 3.6093 - wine_quality_loss: 3.1312 - wine_type_loss: 0.4705 - wine_quality_root_mean_squared_error: 1.7716 - wine_type_accuracy: 0.8266 - val_loss: 2.6707 - val_wine_quality_loss: 2.2864 - val_wine_type_loss: 0.4048 - val_wine_quality_root_mean_squared_error: 1.5053 - val_wine_type_accuracy: 0.8568\n",
            "Epoch 4/180\n",
            "3155/3155 [==============================] - 0s 93us/sample - loss: 2.5159 - wine_quality_loss: 2.1702 - wine_type_loss: 0.3458 - wine_quality_root_mean_squared_error: 1.4731 - wine_type_accuracy: 0.9062 - val_loss: 2.2110 - val_wine_quality_loss: 1.9247 - val_wine_type_loss: 0.2980 - val_wine_quality_root_mean_squared_error: 1.3831 - val_wine_type_accuracy: 0.9569\n",
            "Epoch 5/180\n",
            "3155/3155 [==============================] - 0s 92us/sample - loss: 2.1154 - wine_quality_loss: 1.8597 - wine_type_loss: 0.2544 - wine_quality_root_mean_squared_error: 1.3640 - wine_type_accuracy: 0.9648 - val_loss: 1.9250 - val_wine_quality_loss: 1.7120 - val_wine_type_loss: 0.2205 - val_wine_quality_root_mean_squared_error: 1.3055 - val_wine_type_accuracy: 0.9747\n",
            "Epoch 6/180\n",
            "3155/3155 [==============================] - 0s 76us/sample - loss: 1.8709 - wine_quality_loss: 1.6787 - wine_type_loss: 0.1915 - wine_quality_root_mean_squared_error: 1.2959 - wine_type_accuracy: 0.9775 - val_loss: 1.7069 - val_wine_quality_loss: 1.5457 - val_wine_type_loss: 0.1661 - val_wine_quality_root_mean_squared_error: 1.2412 - val_wine_type_accuracy: 0.9848\n",
            "Epoch 7/180\n",
            "3155/3155 [==============================] - 0s 91us/sample - loss: 1.6874 - wine_quality_loss: 1.5392 - wine_type_loss: 0.1465 - wine_quality_root_mean_squared_error: 1.2413 - wine_type_accuracy: 0.9854 - val_loss: 1.5585 - val_wine_quality_loss: 1.4332 - val_wine_type_loss: 0.1283 - val_wine_quality_root_mean_squared_error: 1.1958 - val_wine_type_accuracy: 0.9861\n",
            "Epoch 8/180\n",
            "3155/3155 [==============================] - 0s 90us/sample - loss: 1.5390 - wine_quality_loss: 1.4207 - wine_type_loss: 0.1160 - wine_quality_root_mean_squared_error: 1.1929 - wine_type_accuracy: 0.9880 - val_loss: 1.4397 - val_wine_quality_loss: 1.3386 - val_wine_type_loss: 0.1028 - val_wine_quality_root_mean_squared_error: 1.1561 - val_wine_type_accuracy: 0.9886\n",
            "Epoch 9/180\n",
            "3155/3155 [==============================] - 0s 91us/sample - loss: 1.4204 - wine_quality_loss: 1.3244 - wine_type_loss: 0.0949 - wine_quality_root_mean_squared_error: 1.1512 - wine_type_accuracy: 0.9902 - val_loss: 1.3339 - val_wine_quality_loss: 1.2499 - val_wine_type_loss: 0.0850 - val_wine_quality_root_mean_squared_error: 1.1174 - val_wine_type_accuracy: 0.9886\n",
            "Epoch 10/180\n",
            "3155/3155 [==============================] - 0s 76us/sample - loss: 1.3205 - wine_quality_loss: 1.2419 - wine_type_loss: 0.0808 - wine_quality_root_mean_squared_error: 1.1134 - wine_type_accuracy: 0.9905 - val_loss: 1.2419 - val_wine_quality_loss: 1.1695 - val_wine_type_loss: 0.0729 - val_wine_quality_root_mean_squared_error: 1.0811 - val_wine_type_accuracy: 0.9899\n",
            "Epoch 11/180\n",
            "3155/3155 [==============================] - 0s 90us/sample - loss: 1.2325 - wine_quality_loss: 1.1626 - wine_type_loss: 0.0703 - wine_quality_root_mean_squared_error: 1.0780 - wine_type_accuracy: 0.9908 - val_loss: 1.1569 - val_wine_quality_loss: 1.0929 - val_wine_type_loss: 0.0640 - val_wine_quality_root_mean_squared_error: 1.0453 - val_wine_type_accuracy: 0.9911\n",
            "Epoch 12/180\n",
            "3155/3155 [==============================] - 0s 90us/sample - loss: 1.1474 - wine_quality_loss: 1.0858 - wine_type_loss: 0.0626 - wine_quality_root_mean_squared_error: 1.0416 - wine_type_accuracy: 0.9908 - val_loss: 1.0907 - val_wine_quality_loss: 1.0332 - val_wine_type_loss: 0.0575 - val_wine_quality_root_mean_squared_error: 1.0163 - val_wine_type_accuracy: 0.9911\n",
            "Epoch 13/180\n",
            "3155/3155 [==============================] - 0s 76us/sample - loss: 1.0733 - wine_quality_loss: 1.0157 - wine_type_loss: 0.0567 - wine_quality_root_mean_squared_error: 1.0082 - wine_type_accuracy: 0.9908 - val_loss: 1.0100 - val_wine_quality_loss: 0.9569 - val_wine_type_loss: 0.0526 - val_wine_quality_root_mean_squared_error: 0.9783 - val_wine_type_accuracy: 0.9911\n",
            "Epoch 14/180\n",
            "3155/3155 [==============================] - 0s 77us/sample - loss: 1.0112 - wine_quality_loss: 0.9587 - wine_type_loss: 0.0524 - wine_quality_root_mean_squared_error: 0.9791 - wine_type_accuracy: 0.9914 - val_loss: 0.9518 - val_wine_quality_loss: 0.9025 - val_wine_type_loss: 0.0487 - val_wine_quality_root_mean_squared_error: 0.9501 - val_wine_type_accuracy: 0.9911\n",
            "Epoch 15/180\n",
            "3155/3155 [==============================] - 0s 92us/sample - loss: 0.9481 - wine_quality_loss: 0.8979 - wine_type_loss: 0.0489 - wine_quality_root_mean_squared_error: 0.9482 - wine_type_accuracy: 0.9914 - val_loss: 0.8960 - val_wine_quality_loss: 0.8493 - val_wine_type_loss: 0.0459 - val_wine_quality_root_mean_squared_error: 0.9218 - val_wine_type_accuracy: 0.9911\n",
            "Epoch 16/180\n",
            "3155/3155 [==============================] - 0s 90us/sample - loss: 0.8932 - wine_quality_loss: 0.8467 - wine_type_loss: 0.0461 - wine_quality_root_mean_squared_error: 0.9204 - wine_type_accuracy: 0.9918 - val_loss: 0.8359 - val_wine_quality_loss: 0.7916 - val_wine_type_loss: 0.0437 - val_wine_quality_root_mean_squared_error: 0.8899 - val_wine_type_accuracy: 0.9911\n",
            "Epoch 17/180\n",
            "3155/3155 [==============================] - 0s 90us/sample - loss: 0.8396 - wine_quality_loss: 0.7969 - wine_type_loss: 0.0436 - wine_quality_root_mean_squared_error: 0.8921 - wine_type_accuracy: 0.9914 - val_loss: 0.7927 - val_wine_quality_loss: 0.7505 - val_wine_type_loss: 0.0418 - val_wine_quality_root_mean_squared_error: 0.8663 - val_wine_type_accuracy: 0.9911\n",
            "Epoch 18/180\n",
            "3155/3155 [==============================] - 0s 76us/sample - loss: 0.7960 - wine_quality_loss: 0.7529 - wine_type_loss: 0.0417 - wine_quality_root_mean_squared_error: 0.8684 - wine_type_accuracy: 0.9918 - val_loss: 0.7484 - val_wine_quality_loss: 0.7074 - val_wine_type_loss: 0.0403 - val_wine_quality_root_mean_squared_error: 0.8412 - val_wine_type_accuracy: 0.9924\n",
            "Epoch 19/180\n",
            "3155/3155 [==============================] - 0s 90us/sample - loss: 0.7538 - wine_quality_loss: 0.7150 - wine_type_loss: 0.0401 - wine_quality_root_mean_squared_error: 0.8448 - wine_type_accuracy: 0.9924 - val_loss: 0.7120 - val_wine_quality_loss: 0.6724 - val_wine_type_loss: 0.0389 - val_wine_quality_root_mean_squared_error: 0.8202 - val_wine_type_accuracy: 0.9924\n",
            "Epoch 20/180\n",
            "3155/3155 [==============================] - 0s 89us/sample - loss: 0.7146 - wine_quality_loss: 0.6753 - wine_type_loss: 0.0387 - wine_quality_root_mean_squared_error: 0.8221 - wine_type_accuracy: 0.9927 - val_loss: 0.6806 - val_wine_quality_loss: 0.6413 - val_wine_type_loss: 0.0381 - val_wine_quality_root_mean_squared_error: 0.8013 - val_wine_type_accuracy: 0.9924\n",
            "Epoch 21/180\n",
            "3155/3155 [==============================] - 0s 74us/sample - loss: 0.6783 - wine_quality_loss: 0.6408 - wine_type_loss: 0.0375 - wine_quality_root_mean_squared_error: 0.8004 - wine_type_accuracy: 0.9927 - val_loss: 0.6538 - val_wine_quality_loss: 0.6155 - val_wine_type_loss: 0.0371 - val_wine_quality_root_mean_squared_error: 0.7851 - val_wine_type_accuracy: 0.9924\n",
            "Epoch 22/180\n",
            "3155/3155 [==============================] - 0s 90us/sample - loss: 0.6438 - wine_quality_loss: 0.6069 - wine_type_loss: 0.0365 - wine_quality_root_mean_squared_error: 0.7792 - wine_type_accuracy: 0.9930 - val_loss: 0.6089 - val_wine_quality_loss: 0.5715 - val_wine_type_loss: 0.0363 - val_wine_quality_root_mean_squared_error: 0.7565 - val_wine_type_accuracy: 0.9924\n",
            "Epoch 23/180\n",
            "3155/3155 [==============================] - 0s 89us/sample - loss: 0.6136 - wine_quality_loss: 0.5778 - wine_type_loss: 0.0355 - wine_quality_root_mean_squared_error: 0.7602 - wine_type_accuracy: 0.9933 - val_loss: 0.5829 - val_wine_quality_loss: 0.5462 - val_wine_type_loss: 0.0355 - val_wine_quality_root_mean_squared_error: 0.7396 - val_wine_type_accuracy: 0.9924\n",
            "Epoch 24/180\n",
            "3155/3155 [==============================] - 0s 74us/sample - loss: 0.5865 - wine_quality_loss: 0.5510 - wine_type_loss: 0.0348 - wine_quality_root_mean_squared_error: 0.7427 - wine_type_accuracy: 0.9937 - val_loss: 0.5551 - val_wine_quality_loss: 0.5190 - val_wine_type_loss: 0.0351 - val_wine_quality_root_mean_squared_error: 0.7209 - val_wine_type_accuracy: 0.9924\n",
            "Epoch 25/180\n",
            "3155/3155 [==============================] - 0s 90us/sample - loss: 0.5603 - wine_quality_loss: 0.5255 - wine_type_loss: 0.0340 - wine_quality_root_mean_squared_error: 0.7254 - wine_type_accuracy: 0.9937 - val_loss: 0.5417 - val_wine_quality_loss: 0.5058 - val_wine_type_loss: 0.0347 - val_wine_quality_root_mean_squared_error: 0.7118 - val_wine_type_accuracy: 0.9924\n",
            "Epoch 26/180\n",
            "3155/3155 [==============================] - 0s 90us/sample - loss: 0.5345 - wine_quality_loss: 0.5009 - wine_type_loss: 0.0333 - wine_quality_root_mean_squared_error: 0.7079 - wine_type_accuracy: 0.9937 - val_loss: 0.5217 - val_wine_quality_loss: 0.4856 - val_wine_type_loss: 0.0345 - val_wine_quality_root_mean_squared_error: 0.6978 - val_wine_type_accuracy: 0.9924\n",
            "Epoch 27/180\n",
            "3155/3155 [==============================] - 0s 73us/sample - loss: 0.5148 - wine_quality_loss: 0.4816 - wine_type_loss: 0.0329 - wine_quality_root_mean_squared_error: 0.6941 - wine_type_accuracy: 0.9943 - val_loss: 0.4950 - val_wine_quality_loss: 0.4599 - val_wine_type_loss: 0.0338 - val_wine_quality_root_mean_squared_error: 0.6788 - val_wine_type_accuracy: 0.9924\n",
            "Epoch 28/180\n",
            "3155/3155 [==============================] - 0s 91us/sample - loss: 0.4939 - wine_quality_loss: 0.4615 - wine_type_loss: 0.0323 - wine_quality_root_mean_squared_error: 0.6794 - wine_type_accuracy: 0.9943 - val_loss: 0.4797 - val_wine_quality_loss: 0.4450 - val_wine_type_loss: 0.0335 - val_wine_quality_root_mean_squared_error: 0.6677 - val_wine_type_accuracy: 0.9924\n",
            "Epoch 29/180\n",
            "3155/3155 [==============================] - 0s 89us/sample - loss: 0.4776 - wine_quality_loss: 0.4456 - wine_type_loss: 0.0318 - wine_quality_root_mean_squared_error: 0.6676 - wine_type_accuracy: 0.9949 - val_loss: 0.4603 - val_wine_quality_loss: 0.4258 - val_wine_type_loss: 0.0331 - val_wine_quality_root_mean_squared_error: 0.6533 - val_wine_type_accuracy: 0.9937\n",
            "Epoch 30/180\n",
            "3155/3155 [==============================] - 0s 73us/sample - loss: 0.4609 - wine_quality_loss: 0.4295 - wine_type_loss: 0.0315 - wine_quality_root_mean_squared_error: 0.6553 - wine_type_accuracy: 0.9949 - val_loss: 0.4448 - val_wine_quality_loss: 0.4107 - val_wine_type_loss: 0.0327 - val_wine_quality_root_mean_squared_error: 0.6416 - val_wine_type_accuracy: 0.9937\n",
            "Epoch 31/180\n",
            "3155/3155 [==============================] - 0s 89us/sample - loss: 0.4474 - wine_quality_loss: 0.4168 - wine_type_loss: 0.0309 - wine_quality_root_mean_squared_error: 0.6453 - wine_type_accuracy: 0.9946 - val_loss: 0.4347 - val_wine_quality_loss: 0.4006 - val_wine_type_loss: 0.0326 - val_wine_quality_root_mean_squared_error: 0.6338 - val_wine_type_accuracy: 0.9937\n",
            "Epoch 32/180\n",
            "3155/3155 [==============================] - 0s 88us/sample - loss: 0.4340 - wine_quality_loss: 0.4039 - wine_type_loss: 0.0307 - wine_quality_root_mean_squared_error: 0.6351 - wine_type_accuracy: 0.9949 - val_loss: 0.4331 - val_wine_quality_loss: 0.3990 - val_wine_type_loss: 0.0324 - val_wine_quality_root_mean_squared_error: 0.6328 - val_wine_type_accuracy: 0.9937\n",
            "Epoch 33/180\n",
            "3155/3155 [==============================] - 0s 76us/sample - loss: 0.4239 - wine_quality_loss: 0.3940 - wine_type_loss: 0.0302 - wine_quality_root_mean_squared_error: 0.6274 - wine_type_accuracy: 0.9949 - val_loss: 0.4195 - val_wine_quality_loss: 0.3862 - val_wine_type_loss: 0.0321 - val_wine_quality_root_mean_squared_error: 0.6221 - val_wine_type_accuracy: 0.9924\n",
            "Epoch 34/180\n",
            "3155/3155 [==============================] - 0s 90us/sample - loss: 0.4159 - wine_quality_loss: 0.3855 - wine_type_loss: 0.0299 - wine_quality_root_mean_squared_error: 0.6213 - wine_type_accuracy: 0.9949 - val_loss: 0.4145 - val_wine_quality_loss: 0.3811 - val_wine_type_loss: 0.0319 - val_wine_quality_root_mean_squared_error: 0.6182 - val_wine_type_accuracy: 0.9924\n",
            "Epoch 35/180\n",
            "3155/3155 [==============================] - 0s 90us/sample - loss: 0.4045 - wine_quality_loss: 0.3751 - wine_type_loss: 0.0295 - wine_quality_root_mean_squared_error: 0.6123 - wine_type_accuracy: 0.9949 - val_loss: 0.4146 - val_wine_quality_loss: 0.3810 - val_wine_type_loss: 0.0319 - val_wine_quality_root_mean_squared_error: 0.6183 - val_wine_type_accuracy: 0.9924\n",
            "Epoch 36/180\n",
            "3155/3155 [==============================] - 0s 73us/sample - loss: 0.3978 - wine_quality_loss: 0.3682 - wine_type_loss: 0.0294 - wine_quality_root_mean_squared_error: 0.6071 - wine_type_accuracy: 0.9946 - val_loss: 0.3901 - val_wine_quality_loss: 0.3574 - val_wine_type_loss: 0.0317 - val_wine_quality_root_mean_squared_error: 0.5983 - val_wine_type_accuracy: 0.9924\n",
            "Epoch 37/180\n",
            "3155/3155 [==============================] - 0s 90us/sample - loss: 0.3901 - wine_quality_loss: 0.3616 - wine_type_loss: 0.0290 - wine_quality_root_mean_squared_error: 0.6009 - wine_type_accuracy: 0.9949 - val_loss: 0.3903 - val_wine_quality_loss: 0.3577 - val_wine_type_loss: 0.0312 - val_wine_quality_root_mean_squared_error: 0.5989 - val_wine_type_accuracy: 0.9924\n",
            "Epoch 38/180\n",
            "3155/3155 [==============================] - 0s 90us/sample - loss: 0.3848 - wine_quality_loss: 0.3555 - wine_type_loss: 0.0286 - wine_quality_root_mean_squared_error: 0.5968 - wine_type_accuracy: 0.9949 - val_loss: 0.3833 - val_wine_quality_loss: 0.3508 - val_wine_type_loss: 0.0312 - val_wine_quality_root_mean_squared_error: 0.5930 - val_wine_type_accuracy: 0.9924\n",
            "Epoch 39/180\n",
            "3155/3155 [==============================] - 0s 74us/sample - loss: 0.3787 - wine_quality_loss: 0.3501 - wine_type_loss: 0.0284 - wine_quality_root_mean_squared_error: 0.5919 - wine_type_accuracy: 0.9949 - val_loss: 0.3806 - val_wine_quality_loss: 0.3485 - val_wine_type_loss: 0.0310 - val_wine_quality_root_mean_squared_error: 0.5909 - val_wine_type_accuracy: 0.9924\n",
            "Epoch 40/180\n",
            "3155/3155 [==============================] - 0s 90us/sample - loss: 0.3740 - wine_quality_loss: 0.3460 - wine_type_loss: 0.0281 - wine_quality_root_mean_squared_error: 0.5881 - wine_type_accuracy: 0.9952 - val_loss: 0.3728 - val_wine_quality_loss: 0.3410 - val_wine_type_loss: 0.0307 - val_wine_quality_root_mean_squared_error: 0.5846 - val_wine_type_accuracy: 0.9924\n",
            "Epoch 41/180\n",
            "3155/3155 [==============================] - 0s 89us/sample - loss: 0.3704 - wine_quality_loss: 0.3421 - wine_type_loss: 0.0279 - wine_quality_root_mean_squared_error: 0.5852 - wine_type_accuracy: 0.9949 - val_loss: 0.3765 - val_wine_quality_loss: 0.3446 - val_wine_type_loss: 0.0306 - val_wine_quality_root_mean_squared_error: 0.5878 - val_wine_type_accuracy: 0.9924\n",
            "Epoch 42/180\n",
            "3155/3155 [==============================] - 0s 74us/sample - loss: 0.3666 - wine_quality_loss: 0.3395 - wine_type_loss: 0.0276 - wine_quality_root_mean_squared_error: 0.5822 - wine_type_accuracy: 0.9949 - val_loss: 0.3707 - val_wine_quality_loss: 0.3392 - val_wine_type_loss: 0.0304 - val_wine_quality_root_mean_squared_error: 0.5830 - val_wine_type_accuracy: 0.9924\n",
            "Epoch 43/180\n",
            "3155/3155 [==============================] - 0s 91us/sample - loss: 0.3617 - wine_quality_loss: 0.3339 - wine_type_loss: 0.0274 - wine_quality_root_mean_squared_error: 0.5781 - wine_type_accuracy: 0.9949 - val_loss: 0.3666 - val_wine_quality_loss: 0.3350 - val_wine_type_loss: 0.0303 - val_wine_quality_root_mean_squared_error: 0.5796 - val_wine_type_accuracy: 0.9924\n",
            "Epoch 44/180\n",
            "3155/3155 [==============================] - 0s 90us/sample - loss: 0.3580 - wine_quality_loss: 0.3308 - wine_type_loss: 0.0271 - wine_quality_root_mean_squared_error: 0.5752 - wine_type_accuracy: 0.9949 - val_loss: 0.3661 - val_wine_quality_loss: 0.3346 - val_wine_type_loss: 0.0304 - val_wine_quality_root_mean_squared_error: 0.5791 - val_wine_type_accuracy: 0.9924\n",
            "Epoch 45/180\n",
            "3155/3155 [==============================] - 0s 93us/sample - loss: 0.3554 - wine_quality_loss: 0.3279 - wine_type_loss: 0.0269 - wine_quality_root_mean_squared_error: 0.5730 - wine_type_accuracy: 0.9949 - val_loss: 0.3586 - val_wine_quality_loss: 0.3273 - val_wine_type_loss: 0.0302 - val_wine_quality_root_mean_squared_error: 0.5728 - val_wine_type_accuracy: 0.9924\n",
            "Epoch 46/180\n",
            "3155/3155 [==============================] - 0s 72us/sample - loss: 0.3526 - wine_quality_loss: 0.3260 - wine_type_loss: 0.0282 - wine_quality_root_mean_squared_error: 0.5708 - wine_type_accuracy: 0.9956 - val_loss: 0.3628 - val_wine_quality_loss: 0.3319 - val_wine_type_loss: 0.0300 - val_wine_quality_root_mean_squared_error: 0.5766 - val_wine_type_accuracy: 0.9924\n",
            "Epoch 47/180\n",
            "3155/3155 [==============================] - 0s 89us/sample - loss: 0.3485 - wine_quality_loss: 0.3220 - wine_type_loss: 0.0265 - wine_quality_root_mean_squared_error: 0.5674 - wine_type_accuracy: 0.9949 - val_loss: 0.3615 - val_wine_quality_loss: 0.3305 - val_wine_type_loss: 0.0299 - val_wine_quality_root_mean_squared_error: 0.5755 - val_wine_type_accuracy: 0.9924\n",
            "Epoch 48/180\n",
            "3155/3155 [==============================] - 0s 91us/sample - loss: 0.3476 - wine_quality_loss: 0.3217 - wine_type_loss: 0.0262 - wine_quality_root_mean_squared_error: 0.5668 - wine_type_accuracy: 0.9952 - val_loss: 0.3555 - val_wine_quality_loss: 0.3246 - val_wine_type_loss: 0.0298 - val_wine_quality_root_mean_squared_error: 0.5704 - val_wine_type_accuracy: 0.9924\n",
            "Epoch 49/180\n",
            "3155/3155 [==============================] - 0s 75us/sample - loss: 0.3440 - wine_quality_loss: 0.3178 - wine_type_loss: 0.0260 - wine_quality_root_mean_squared_error: 0.5638 - wine_type_accuracy: 0.9952 - val_loss: 0.3552 - val_wine_quality_loss: 0.3246 - val_wine_type_loss: 0.0297 - val_wine_quality_root_mean_squared_error: 0.5702 - val_wine_type_accuracy: 0.9937\n",
            "Epoch 50/180\n",
            "3155/3155 [==============================] - 0s 74us/sample - loss: 0.3430 - wine_quality_loss: 0.3165 - wine_type_loss: 0.0261 - wine_quality_root_mean_squared_error: 0.5630 - wine_type_accuracy: 0.9956 - val_loss: 0.3586 - val_wine_quality_loss: 0.3279 - val_wine_type_loss: 0.0296 - val_wine_quality_root_mean_squared_error: 0.5732 - val_wine_type_accuracy: 0.9937\n",
            "Epoch 51/180\n",
            "3155/3155 [==============================] - 0s 89us/sample - loss: 0.3426 - wine_quality_loss: 0.3162 - wine_type_loss: 0.0257 - wine_quality_root_mean_squared_error: 0.5629 - wine_type_accuracy: 0.9956 - val_loss: 0.3530 - val_wine_quality_loss: 0.3224 - val_wine_type_loss: 0.0295 - val_wine_quality_root_mean_squared_error: 0.5684 - val_wine_type_accuracy: 0.9937\n",
            "Epoch 52/180\n",
            "3155/3155 [==============================] - 0s 75us/sample - loss: 0.3385 - wine_quality_loss: 0.3131 - wine_type_loss: 0.0255 - wine_quality_root_mean_squared_error: 0.5594 - wine_type_accuracy: 0.9952 - val_loss: 0.3582 - val_wine_quality_loss: 0.3277 - val_wine_type_loss: 0.0293 - val_wine_quality_root_mean_squared_error: 0.5731 - val_wine_type_accuracy: 0.9937\n",
            "Epoch 53/180\n",
            "3155/3155 [==============================] - 0s 89us/sample - loss: 0.3380 - wine_quality_loss: 0.3134 - wine_type_loss: 0.0253 - wine_quality_root_mean_squared_error: 0.5591 - wine_type_accuracy: 0.9956 - val_loss: 0.3513 - val_wine_quality_loss: 0.3209 - val_wine_type_loss: 0.0293 - val_wine_quality_root_mean_squared_error: 0.5671 - val_wine_type_accuracy: 0.9937\n",
            "Epoch 54/180\n",
            "3155/3155 [==============================] - 0s 90us/sample - loss: 0.3371 - wine_quality_loss: 0.3121 - wine_type_loss: 0.0252 - wine_quality_root_mean_squared_error: 0.5584 - wine_type_accuracy: 0.9956 - val_loss: 0.3501 - val_wine_quality_loss: 0.3199 - val_wine_type_loss: 0.0291 - val_wine_quality_root_mean_squared_error: 0.5662 - val_wine_type_accuracy: 0.9937\n",
            "Epoch 55/180\n",
            "3155/3155 [==============================] - 0s 72us/sample - loss: 0.3349 - wine_quality_loss: 0.3098 - wine_type_loss: 0.0250 - wine_quality_root_mean_squared_error: 0.5567 - wine_type_accuracy: 0.9956 - val_loss: 0.3525 - val_wine_quality_loss: 0.3222 - val_wine_type_loss: 0.0293 - val_wine_quality_root_mean_squared_error: 0.5682 - val_wine_type_accuracy: 0.9937\n",
            "Epoch 56/180\n",
            "3155/3155 [==============================] - 0s 91us/sample - loss: 0.3332 - wine_quality_loss: 0.3078 - wine_type_loss: 0.0248 - wine_quality_root_mean_squared_error: 0.5552 - wine_type_accuracy: 0.9956 - val_loss: 0.3494 - val_wine_quality_loss: 0.3190 - val_wine_type_loss: 0.0290 - val_wine_quality_root_mean_squared_error: 0.5657 - val_wine_type_accuracy: 0.9937\n",
            "Epoch 57/180\n",
            "3155/3155 [==============================] - 0s 89us/sample - loss: 0.3314 - wine_quality_loss: 0.3068 - wine_type_loss: 0.0247 - wine_quality_root_mean_squared_error: 0.5538 - wine_type_accuracy: 0.9956 - val_loss: 0.3491 - val_wine_quality_loss: 0.3192 - val_wine_type_loss: 0.0289 - val_wine_quality_root_mean_squared_error: 0.5655 - val_wine_type_accuracy: 0.9937\n",
            "Epoch 58/180\n",
            "3155/3155 [==============================] - 0s 74us/sample - loss: 0.3306 - wine_quality_loss: 0.3059 - wine_type_loss: 0.0246 - wine_quality_root_mean_squared_error: 0.5533 - wine_type_accuracy: 0.9956 - val_loss: 0.3496 - val_wine_quality_loss: 0.3200 - val_wine_type_loss: 0.0289 - val_wine_quality_root_mean_squared_error: 0.5660 - val_wine_type_accuracy: 0.9937\n",
            "Epoch 59/180\n",
            "3155/3155 [==============================] - 0s 90us/sample - loss: 0.3303 - wine_quality_loss: 0.3059 - wine_type_loss: 0.0244 - wine_quality_root_mean_squared_error: 0.5530 - wine_type_accuracy: 0.9956 - val_loss: 0.3461 - val_wine_quality_loss: 0.3164 - val_wine_type_loss: 0.0288 - val_wine_quality_root_mean_squared_error: 0.5629 - val_wine_type_accuracy: 0.9937\n",
            "Epoch 60/180\n",
            "3155/3155 [==============================] - 0s 89us/sample - loss: 0.3293 - wine_quality_loss: 0.3050 - wine_type_loss: 0.0254 - wine_quality_root_mean_squared_error: 0.5523 - wine_type_accuracy: 0.9959 - val_loss: 0.3467 - val_wine_quality_loss: 0.3169 - val_wine_type_loss: 0.0287 - val_wine_quality_root_mean_squared_error: 0.5636 - val_wine_type_accuracy: 0.9937\n",
            "Epoch 61/180\n",
            "3155/3155 [==============================] - 0s 73us/sample - loss: 0.3265 - wine_quality_loss: 0.3025 - wine_type_loss: 0.0241 - wine_quality_root_mean_squared_error: 0.5498 - wine_type_accuracy: 0.9959 - val_loss: 0.3633 - val_wine_quality_loss: 0.3334 - val_wine_type_loss: 0.0286 - val_wine_quality_root_mean_squared_error: 0.5781 - val_wine_type_accuracy: 0.9937\n",
            "Epoch 62/180\n",
            "3155/3155 [==============================] - 0s 91us/sample - loss: 0.3263 - wine_quality_loss: 0.3022 - wine_type_loss: 0.0239 - wine_quality_root_mean_squared_error: 0.5498 - wine_type_accuracy: 0.9959 - val_loss: 0.3451 - val_wine_quality_loss: 0.3157 - val_wine_type_loss: 0.0284 - val_wine_quality_root_mean_squared_error: 0.5625 - val_wine_type_accuracy: 0.9937\n",
            "Epoch 63/180\n",
            "3155/3155 [==============================] - 0s 90us/sample - loss: 0.3249 - wine_quality_loss: 0.3008 - wine_type_loss: 0.0238 - wine_quality_root_mean_squared_error: 0.5486 - wine_type_accuracy: 0.9959 - val_loss: 0.3444 - val_wine_quality_loss: 0.3150 - val_wine_type_loss: 0.0285 - val_wine_quality_root_mean_squared_error: 0.5618 - val_wine_type_accuracy: 0.9937\n",
            "Epoch 64/180\n",
            "3155/3155 [==============================] - 0s 74us/sample - loss: 0.3237 - wine_quality_loss: 0.3001 - wine_type_loss: 0.0237 - wine_quality_root_mean_squared_error: 0.5477 - wine_type_accuracy: 0.9962 - val_loss: 0.3423 - val_wine_quality_loss: 0.3129 - val_wine_type_loss: 0.0285 - val_wine_quality_root_mean_squared_error: 0.5598 - val_wine_type_accuracy: 0.9937\n",
            "Epoch 65/180\n",
            "3155/3155 [==============================] - 0s 89us/sample - loss: 0.3229 - wine_quality_loss: 0.2991 - wine_type_loss: 0.0235 - wine_quality_root_mean_squared_error: 0.5471 - wine_type_accuracy: 0.9959 - val_loss: 0.3499 - val_wine_quality_loss: 0.3203 - val_wine_type_loss: 0.0284 - val_wine_quality_root_mean_squared_error: 0.5667 - val_wine_type_accuracy: 0.9937\n",
            "Epoch 66/180\n",
            "3155/3155 [==============================] - 0s 89us/sample - loss: 0.3212 - wine_quality_loss: 0.2974 - wine_type_loss: 0.0235 - wine_quality_root_mean_squared_error: 0.5456 - wine_type_accuracy: 0.9959 - val_loss: 0.3515 - val_wine_quality_loss: 0.3222 - val_wine_type_loss: 0.0283 - val_wine_quality_root_mean_squared_error: 0.5682 - val_wine_type_accuracy: 0.9937\n",
            "Epoch 67/180\n",
            "3155/3155 [==============================] - 0s 76us/sample - loss: 0.3218 - wine_quality_loss: 0.2984 - wine_type_loss: 0.0235 - wine_quality_root_mean_squared_error: 0.5463 - wine_type_accuracy: 0.9962 - val_loss: 0.3416 - val_wine_quality_loss: 0.3123 - val_wine_type_loss: 0.0284 - val_wine_quality_root_mean_squared_error: 0.5594 - val_wine_type_accuracy: 0.9937\n",
            "Epoch 68/180\n",
            "3155/3155 [==============================] - 0s 90us/sample - loss: 0.3202 - wine_quality_loss: 0.2966 - wine_type_loss: 0.0231 - wine_quality_root_mean_squared_error: 0.5450 - wine_type_accuracy: 0.9959 - val_loss: 0.3420 - val_wine_quality_loss: 0.3125 - val_wine_type_loss: 0.0284 - val_wine_quality_root_mean_squared_error: 0.5596 - val_wine_type_accuracy: 0.9937\n",
            "Epoch 69/180\n",
            "3155/3155 [==============================] - 0s 91us/sample - loss: 0.3188 - wine_quality_loss: 0.2956 - wine_type_loss: 0.0230 - wine_quality_root_mean_squared_error: 0.5438 - wine_type_accuracy: 0.9959 - val_loss: 0.3452 - val_wine_quality_loss: 0.3160 - val_wine_type_loss: 0.0282 - val_wine_quality_root_mean_squared_error: 0.5627 - val_wine_type_accuracy: 0.9937\n",
            "Epoch 70/180\n",
            "3155/3155 [==============================] - 0s 87us/sample - loss: 0.3179 - wine_quality_loss: 0.2956 - wine_type_loss: 0.0229 - wine_quality_root_mean_squared_error: 0.5431 - wine_type_accuracy: 0.9959 - val_loss: 0.3460 - val_wine_quality_loss: 0.3174 - val_wine_type_loss: 0.0280 - val_wine_quality_root_mean_squared_error: 0.5636 - val_wine_type_accuracy: 0.9937\n",
            "Epoch 71/180\n",
            "3155/3155 [==============================] - 0s 75us/sample - loss: 0.3175 - wine_quality_loss: 0.2945 - wine_type_loss: 0.0227 - wine_quality_root_mean_squared_error: 0.5428 - wine_type_accuracy: 0.9962 - val_loss: 0.3490 - val_wine_quality_loss: 0.3199 - val_wine_type_loss: 0.0280 - val_wine_quality_root_mean_squared_error: 0.5662 - val_wine_type_accuracy: 0.9937\n",
            "Epoch 72/180\n",
            "3155/3155 [==============================] - 0s 88us/sample - loss: 0.3159 - wine_quality_loss: 0.2928 - wine_type_loss: 0.0226 - wine_quality_root_mean_squared_error: 0.5415 - wine_type_accuracy: 0.9959 - val_loss: 0.3374 - val_wine_quality_loss: 0.3088 - val_wine_type_loss: 0.0279 - val_wine_quality_root_mean_squared_error: 0.5560 - val_wine_type_accuracy: 0.9937\n",
            "Epoch 73/180\n",
            "3155/3155 [==============================] - 0s 73us/sample - loss: 0.3145 - wine_quality_loss: 0.2920 - wine_type_loss: 0.0225 - wine_quality_root_mean_squared_error: 0.5404 - wine_type_accuracy: 0.9962 - val_loss: 0.3434 - val_wine_quality_loss: 0.3143 - val_wine_type_loss: 0.0278 - val_wine_quality_root_mean_squared_error: 0.5614 - val_wine_type_accuracy: 0.9937\n",
            "Epoch 74/180\n",
            "3155/3155 [==============================] - 0s 89us/sample - loss: 0.3156 - wine_quality_loss: 0.2928 - wine_type_loss: 0.0238 - wine_quality_root_mean_squared_error: 0.5415 - wine_type_accuracy: 0.9962 - val_loss: 0.3430 - val_wine_quality_loss: 0.3147 - val_wine_type_loss: 0.0277 - val_wine_quality_root_mean_squared_error: 0.5612 - val_wine_type_accuracy: 0.9937\n",
            "Epoch 75/180\n",
            "3155/3155 [==============================] - 0s 87us/sample - loss: 0.3137 - wine_quality_loss: 0.2910 - wine_type_loss: 0.0223 - wine_quality_root_mean_squared_error: 0.5398 - wine_type_accuracy: 0.9962 - val_loss: 0.3440 - val_wine_quality_loss: 0.3153 - val_wine_type_loss: 0.0277 - val_wine_quality_root_mean_squared_error: 0.5621 - val_wine_type_accuracy: 0.9937\n",
            "Epoch 76/180\n",
            "3155/3155 [==============================] - 0s 75us/sample - loss: 0.3122 - wine_quality_loss: 0.2894 - wine_type_loss: 0.0221 - wine_quality_root_mean_squared_error: 0.5386 - wine_type_accuracy: 0.9965 - val_loss: 0.3478 - val_wine_quality_loss: 0.3194 - val_wine_type_loss: 0.0276 - val_wine_quality_root_mean_squared_error: 0.5656 - val_wine_type_accuracy: 0.9937\n",
            "Epoch 77/180\n",
            "3155/3155 [==============================] - 0s 89us/sample - loss: 0.3130 - wine_quality_loss: 0.2907 - wine_type_loss: 0.0222 - wine_quality_root_mean_squared_error: 0.5393 - wine_type_accuracy: 0.9962 - val_loss: 0.3418 - val_wine_quality_loss: 0.3135 - val_wine_type_loss: 0.0276 - val_wine_quality_root_mean_squared_error: 0.5603 - val_wine_type_accuracy: 0.9937\n",
            "Epoch 78/180\n",
            "3155/3155 [==============================] - 0s 73us/sample - loss: 0.3120 - wine_quality_loss: 0.2899 - wine_type_loss: 0.0219 - wine_quality_root_mean_squared_error: 0.5386 - wine_type_accuracy: 0.9962 - val_loss: 0.3494 - val_wine_quality_loss: 0.3208 - val_wine_type_loss: 0.0276 - val_wine_quality_root_mean_squared_error: 0.5669 - val_wine_type_accuracy: 0.9937\n",
            "Epoch 79/180\n",
            "3155/3155 [==============================] - 0s 88us/sample - loss: 0.3114 - wine_quality_loss: 0.2897 - wine_type_loss: 0.0218 - wine_quality_root_mean_squared_error: 0.5381 - wine_type_accuracy: 0.9965 - val_loss: 0.3409 - val_wine_quality_loss: 0.3123 - val_wine_type_loss: 0.0276 - val_wine_quality_root_mean_squared_error: 0.5594 - val_wine_type_accuracy: 0.9937\n",
            "Epoch 80/180\n",
            "3155/3155 [==============================] - 0s 92us/sample - loss: 0.3104 - wine_quality_loss: 0.2884 - wine_type_loss: 0.0217 - wine_quality_root_mean_squared_error: 0.5373 - wine_type_accuracy: 0.9962 - val_loss: 0.3487 - val_wine_quality_loss: 0.3200 - val_wine_type_loss: 0.0276 - val_wine_quality_root_mean_squared_error: 0.5664 - val_wine_type_accuracy: 0.9937\n",
            "Epoch 81/180\n",
            "3155/3155 [==============================] - 0s 88us/sample - loss: 0.3104 - wine_quality_loss: 0.2893 - wine_type_loss: 0.0216 - wine_quality_root_mean_squared_error: 0.5374 - wine_type_accuracy: 0.9965 - val_loss: 0.3580 - val_wine_quality_loss: 0.3292 - val_wine_type_loss: 0.0276 - val_wine_quality_root_mean_squared_error: 0.5746 - val_wine_type_accuracy: 0.9937\n",
            "Epoch 82/180\n",
            "3155/3155 [==============================] - 0s 76us/sample - loss: 0.3096 - wine_quality_loss: 0.2883 - wine_type_loss: 0.0214 - wine_quality_root_mean_squared_error: 0.5368 - wine_type_accuracy: 0.9965 - val_loss: 0.3437 - val_wine_quality_loss: 0.3156 - val_wine_type_loss: 0.0274 - val_wine_quality_root_mean_squared_error: 0.5621 - val_wine_type_accuracy: 0.9937\n",
            "Epoch 83/180\n",
            "3155/3155 [==============================] - 0s 90us/sample - loss: 0.3083 - wine_quality_loss: 0.2877 - wine_type_loss: 0.0214 - wine_quality_root_mean_squared_error: 0.5356 - wine_type_accuracy: 0.9965 - val_loss: 0.3419 - val_wine_quality_loss: 0.3139 - val_wine_type_loss: 0.0273 - val_wine_quality_root_mean_squared_error: 0.5606 - val_wine_type_accuracy: 0.9937\n",
            "Epoch 84/180\n",
            "3155/3155 [==============================] - 0s 71us/sample - loss: 0.3070 - wine_quality_loss: 0.2857 - wine_type_loss: 0.0213 - wine_quality_root_mean_squared_error: 0.5344 - wine_type_accuracy: 0.9965 - val_loss: 0.3434 - val_wine_quality_loss: 0.3153 - val_wine_type_loss: 0.0273 - val_wine_quality_root_mean_squared_error: 0.5619 - val_wine_type_accuracy: 0.9937\n",
            "Epoch 85/180\n",
            "3155/3155 [==============================] - 0s 89us/sample - loss: 0.3074 - wine_quality_loss: 0.2863 - wine_type_loss: 0.0212 - wine_quality_root_mean_squared_error: 0.5350 - wine_type_accuracy: 0.9965 - val_loss: 0.3393 - val_wine_quality_loss: 0.3112 - val_wine_type_loss: 0.0273 - val_wine_quality_root_mean_squared_error: 0.5583 - val_wine_type_accuracy: 0.9937\n",
            "Epoch 86/180\n",
            "3155/3155 [==============================] - 0s 88us/sample - loss: 0.3063 - wine_quality_loss: 0.2850 - wine_type_loss: 0.0222 - wine_quality_root_mean_squared_error: 0.5340 - wine_type_accuracy: 0.9965 - val_loss: 0.3416 - val_wine_quality_loss: 0.3135 - val_wine_type_loss: 0.0272 - val_wine_quality_root_mean_squared_error: 0.5604 - val_wine_type_accuracy: 0.9937\n",
            "Epoch 87/180\n",
            "3155/3155 [==============================] - 0s 73us/sample - loss: 0.3063 - wine_quality_loss: 0.2847 - wine_type_loss: 0.0223 - wine_quality_root_mean_squared_error: 0.5342 - wine_type_accuracy: 0.9965 - val_loss: 0.3379 - val_wine_quality_loss: 0.3101 - val_wine_type_loss: 0.0271 - val_wine_quality_root_mean_squared_error: 0.5572 - val_wine_type_accuracy: 0.9937\n",
            "Epoch 88/180\n",
            "3155/3155 [==============================] - 0s 90us/sample - loss: 0.3057 - wine_quality_loss: 0.2853 - wine_type_loss: 0.0208 - wine_quality_root_mean_squared_error: 0.5336 - wine_type_accuracy: 0.9968 - val_loss: 0.3403 - val_wine_quality_loss: 0.3125 - val_wine_type_loss: 0.0270 - val_wine_quality_root_mean_squared_error: 0.5594 - val_wine_type_accuracy: 0.9937\n",
            "Epoch 89/180\n",
            "3155/3155 [==============================] - 0s 87us/sample - loss: 0.3057 - wine_quality_loss: 0.2851 - wine_type_loss: 0.0209 - wine_quality_root_mean_squared_error: 0.5337 - wine_type_accuracy: 0.9968 - val_loss: 0.3547 - val_wine_quality_loss: 0.3266 - val_wine_type_loss: 0.0270 - val_wine_quality_root_mean_squared_error: 0.5722 - val_wine_type_accuracy: 0.9937\n",
            "Epoch 90/180\n",
            "3155/3155 [==============================] - 0s 74us/sample - loss: 0.3035 - wine_quality_loss: 0.2829 - wine_type_loss: 0.0207 - wine_quality_root_mean_squared_error: 0.5317 - wine_type_accuracy: 0.9968 - val_loss: 0.3454 - val_wine_quality_loss: 0.3175 - val_wine_type_loss: 0.0270 - val_wine_quality_root_mean_squared_error: 0.5640 - val_wine_type_accuracy: 0.9937\n",
            "Epoch 91/180\n",
            "3155/3155 [==============================] - 0s 89us/sample - loss: 0.3044 - wine_quality_loss: 0.2831 - wine_type_loss: 0.0206 - wine_quality_root_mean_squared_error: 0.5327 - wine_type_accuracy: 0.9968 - val_loss: 0.3429 - val_wine_quality_loss: 0.3148 - val_wine_type_loss: 0.0271 - val_wine_quality_root_mean_squared_error: 0.5617 - val_wine_type_accuracy: 0.9937\n",
            "Epoch 92/180\n",
            "3155/3155 [==============================] - 0s 73us/sample - loss: 0.3022 - wine_quality_loss: 0.2815 - wine_type_loss: 0.0205 - wine_quality_root_mean_squared_error: 0.5306 - wine_type_accuracy: 0.9968 - val_loss: 0.3456 - val_wine_quality_loss: 0.3181 - val_wine_type_loss: 0.0271 - val_wine_quality_root_mean_squared_error: 0.5640 - val_wine_type_accuracy: 0.9937\n",
            "Epoch 93/180\n",
            "3155/3155 [==============================] - 0s 88us/sample - loss: 0.3034 - wine_quality_loss: 0.2829 - wine_type_loss: 0.0204 - wine_quality_root_mean_squared_error: 0.5319 - wine_type_accuracy: 0.9968 - val_loss: 0.3400 - val_wine_quality_loss: 0.3123 - val_wine_type_loss: 0.0270 - val_wine_quality_root_mean_squared_error: 0.5591 - val_wine_type_accuracy: 0.9937\n",
            "Epoch 94/180\n",
            "3155/3155 [==============================] - 0s 71us/sample - loss: 0.3009 - wine_quality_loss: 0.2797 - wine_type_loss: 0.0203 - wine_quality_root_mean_squared_error: 0.5296 - wine_type_accuracy: 0.9968 - val_loss: 0.3454 - val_wine_quality_loss: 0.3174 - val_wine_type_loss: 0.0270 - val_wine_quality_root_mean_squared_error: 0.5640 - val_wine_type_accuracy: 0.9937\n",
            "Epoch 95/180\n",
            "3155/3155 [==============================] - 0s 90us/sample - loss: 0.3010 - wine_quality_loss: 0.2809 - wine_type_loss: 0.0202 - wine_quality_root_mean_squared_error: 0.5299 - wine_type_accuracy: 0.9968 - val_loss: 0.3408 - val_wine_quality_loss: 0.3132 - val_wine_type_loss: 0.0269 - val_wine_quality_root_mean_squared_error: 0.5600 - val_wine_type_accuracy: 0.9937\n",
            "Epoch 96/180\n",
            "3155/3155 [==============================] - 0s 87us/sample - loss: 0.3007 - wine_quality_loss: 0.2801 - wine_type_loss: 0.0202 - wine_quality_root_mean_squared_error: 0.5296 - wine_type_accuracy: 0.9968 - val_loss: 0.3488 - val_wine_quality_loss: 0.3210 - val_wine_type_loss: 0.0269 - val_wine_quality_root_mean_squared_error: 0.5671 - val_wine_type_accuracy: 0.9937\n",
            "Epoch 97/180\n",
            "3155/3155 [==============================] - 0s 73us/sample - loss: 0.3009 - wine_quality_loss: 0.2809 - wine_type_loss: 0.0206 - wine_quality_root_mean_squared_error: 0.5299 - wine_type_accuracy: 0.9968 - val_loss: 0.3379 - val_wine_quality_loss: 0.3102 - val_wine_type_loss: 0.0269 - val_wine_quality_root_mean_squared_error: 0.5574 - val_wine_type_accuracy: 0.9937\n",
            "Epoch 98/180\n",
            "3155/3155 [==============================] - 0s 88us/sample - loss: 0.2998 - wine_quality_loss: 0.2797 - wine_type_loss: 0.0200 - wine_quality_root_mean_squared_error: 0.5289 - wine_type_accuracy: 0.9968 - val_loss: 0.3411 - val_wine_quality_loss: 0.3133 - val_wine_type_loss: 0.0268 - val_wine_quality_root_mean_squared_error: 0.5603 - val_wine_type_accuracy: 0.9937\n",
            "Epoch 99/180\n",
            "3155/3155 [==============================] - 0s 88us/sample - loss: 0.2996 - wine_quality_loss: 0.2798 - wine_type_loss: 0.0199 - wine_quality_root_mean_squared_error: 0.5288 - wine_type_accuracy: 0.9965 - val_loss: 0.3526 - val_wine_quality_loss: 0.3248 - val_wine_type_loss: 0.0268 - val_wine_quality_root_mean_squared_error: 0.5706 - val_wine_type_accuracy: 0.9937\n",
            "Epoch 100/180\n",
            "3155/3155 [==============================] - 0s 77us/sample - loss: 0.2987 - wine_quality_loss: 0.2799 - wine_type_loss: 0.0198 - wine_quality_root_mean_squared_error: 0.5280 - wine_type_accuracy: 0.9968 - val_loss: 0.3391 - val_wine_quality_loss: 0.3116 - val_wine_type_loss: 0.0267 - val_wine_quality_root_mean_squared_error: 0.5587 - val_wine_type_accuracy: 0.9937\n",
            "Epoch 101/180\n",
            "3155/3155 [==============================] - 0s 89us/sample - loss: 0.2976 - wine_quality_loss: 0.2775 - wine_type_loss: 0.0198 - wine_quality_root_mean_squared_error: 0.5270 - wine_type_accuracy: 0.9968 - val_loss: 0.3398 - val_wine_quality_loss: 0.3122 - val_wine_type_loss: 0.0267 - val_wine_quality_root_mean_squared_error: 0.5592 - val_wine_type_accuracy: 0.9937\n",
            "Epoch 102/180\n",
            "3155/3155 [==============================] - 0s 90us/sample - loss: 0.2967 - wine_quality_loss: 0.2768 - wine_type_loss: 0.0196 - wine_quality_root_mean_squared_error: 0.5263 - wine_type_accuracy: 0.9968 - val_loss: 0.3360 - val_wine_quality_loss: 0.3085 - val_wine_type_loss: 0.0266 - val_wine_quality_root_mean_squared_error: 0.5560 - val_wine_type_accuracy: 0.9937\n",
            "Epoch 103/180\n",
            "3155/3155 [==============================] - 0s 75us/sample - loss: 0.2971 - wine_quality_loss: 0.2773 - wine_type_loss: 0.0196 - wine_quality_root_mean_squared_error: 0.5268 - wine_type_accuracy: 0.9968 - val_loss: 0.3371 - val_wine_quality_loss: 0.3099 - val_wine_type_loss: 0.0266 - val_wine_quality_root_mean_squared_error: 0.5569 - val_wine_type_accuracy: 0.9937\n",
            "Epoch 104/180\n",
            "3155/3155 [==============================] - 0s 88us/sample - loss: 0.2967 - wine_quality_loss: 0.2778 - wine_type_loss: 0.0195 - wine_quality_root_mean_squared_error: 0.5265 - wine_type_accuracy: 0.9968 - val_loss: 0.3396 - val_wine_quality_loss: 0.3124 - val_wine_type_loss: 0.0265 - val_wine_quality_root_mean_squared_error: 0.5592 - val_wine_type_accuracy: 0.9937\n",
            "Epoch 105/180\n",
            "3155/3155 [==============================] - 0s 88us/sample - loss: 0.2957 - wine_quality_loss: 0.2756 - wine_type_loss: 0.0194 - wine_quality_root_mean_squared_error: 0.5256 - wine_type_accuracy: 0.9968 - val_loss: 0.3523 - val_wine_quality_loss: 0.3252 - val_wine_type_loss: 0.0265 - val_wine_quality_root_mean_squared_error: 0.5705 - val_wine_type_accuracy: 0.9937\n",
            "Epoch 106/180\n",
            "3155/3155 [==============================] - 0s 75us/sample - loss: 0.2967 - wine_quality_loss: 0.2772 - wine_type_loss: 0.0193 - wine_quality_root_mean_squared_error: 0.5266 - wine_type_accuracy: 0.9968 - val_loss: 0.3390 - val_wine_quality_loss: 0.3115 - val_wine_type_loss: 0.0266 - val_wine_quality_root_mean_squared_error: 0.5586 - val_wine_type_accuracy: 0.9937\n",
            "Epoch 107/180\n",
            "3155/3155 [==============================] - 0s 91us/sample - loss: 0.2957 - wine_quality_loss: 0.2770 - wine_type_loss: 0.0192 - wine_quality_root_mean_squared_error: 0.5257 - wine_type_accuracy: 0.9968 - val_loss: 0.3449 - val_wine_quality_loss: 0.3174 - val_wine_type_loss: 0.0266 - val_wine_quality_root_mean_squared_error: 0.5639 - val_wine_type_accuracy: 0.9937\n",
            "Epoch 108/180\n",
            "3155/3155 [==============================] - 0s 88us/sample - loss: 0.2941 - wine_quality_loss: 0.2748 - wine_type_loss: 0.0191 - wine_quality_root_mean_squared_error: 0.5243 - wine_type_accuracy: 0.9968 - val_loss: 0.3435 - val_wine_quality_loss: 0.3160 - val_wine_type_loss: 0.0266 - val_wine_quality_root_mean_squared_error: 0.5626 - val_wine_type_accuracy: 0.9937\n",
            "Epoch 109/180\n",
            "3155/3155 [==============================] - 0s 74us/sample - loss: 0.2940 - wine_quality_loss: 0.2748 - wine_type_loss: 0.0191 - wine_quality_root_mean_squared_error: 0.5243 - wine_type_accuracy: 0.9968 - val_loss: 0.3394 - val_wine_quality_loss: 0.3122 - val_wine_type_loss: 0.0265 - val_wine_quality_root_mean_squared_error: 0.5591 - val_wine_type_accuracy: 0.9937\n",
            "Epoch 110/180\n",
            "3155/3155 [==============================] - 0s 88us/sample - loss: 0.2928 - wine_quality_loss: 0.2737 - wine_type_loss: 0.0190 - wine_quality_root_mean_squared_error: 0.5232 - wine_type_accuracy: 0.9968 - val_loss: 0.3400 - val_wine_quality_loss: 0.3127 - val_wine_type_loss: 0.0265 - val_wine_quality_root_mean_squared_error: 0.5596 - val_wine_type_accuracy: 0.9937\n",
            "Epoch 111/180\n",
            "3155/3155 [==============================] - 0s 74us/sample - loss: 0.2929 - wine_quality_loss: 0.2750 - wine_type_loss: 0.0189 - wine_quality_root_mean_squared_error: 0.5233 - wine_type_accuracy: 0.9968 - val_loss: 0.3451 - val_wine_quality_loss: 0.3175 - val_wine_type_loss: 0.0266 - val_wine_quality_root_mean_squared_error: 0.5641 - val_wine_type_accuracy: 0.9937\n",
            "Epoch 112/180\n",
            "3155/3155 [==============================] - 0s 88us/sample - loss: 0.2930 - wine_quality_loss: 0.2743 - wine_type_loss: 0.0189 - wine_quality_root_mean_squared_error: 0.5235 - wine_type_accuracy: 0.9968 - val_loss: 0.3352 - val_wine_quality_loss: 0.3081 - val_wine_type_loss: 0.0266 - val_wine_quality_root_mean_squared_error: 0.5552 - val_wine_type_accuracy: 0.9937\n",
            "Epoch 113/180\n",
            "3155/3155 [==============================] - 0s 72us/sample - loss: 0.2914 - wine_quality_loss: 0.2720 - wine_type_loss: 0.0209 - wine_quality_root_mean_squared_error: 0.5220 - wine_type_accuracy: 0.9968 - val_loss: 0.3424 - val_wine_quality_loss: 0.3153 - val_wine_type_loss: 0.0263 - val_wine_quality_root_mean_squared_error: 0.5619 - val_wine_type_accuracy: 0.9937\n",
            "Epoch 114/180\n",
            "3155/3155 [==============================] - 0s 89us/sample - loss: 0.2911 - wine_quality_loss: 0.2725 - wine_type_loss: 0.0186 - wine_quality_root_mean_squared_error: 0.5220 - wine_type_accuracy: 0.9968 - val_loss: 0.3418 - val_wine_quality_loss: 0.3145 - val_wine_type_loss: 0.0264 - val_wine_quality_root_mean_squared_error: 0.5614 - val_wine_type_accuracy: 0.9937\n",
            "Epoch 115/180\n",
            "3155/3155 [==============================] - 0s 88us/sample - loss: 0.2918 - wine_quality_loss: 0.2726 - wine_type_loss: 0.0186 - wine_quality_root_mean_squared_error: 0.5226 - wine_type_accuracy: 0.9968 - val_loss: 0.3365 - val_wine_quality_loss: 0.3095 - val_wine_type_loss: 0.0263 - val_wine_quality_root_mean_squared_error: 0.5567 - val_wine_type_accuracy: 0.9937\n",
            "Epoch 116/180\n",
            "3155/3155 [==============================] - 0s 73us/sample - loss: 0.2904 - wine_quality_loss: 0.2715 - wine_type_loss: 0.0185 - wine_quality_root_mean_squared_error: 0.5214 - wine_type_accuracy: 0.9968 - val_loss: 0.3427 - val_wine_quality_loss: 0.3156 - val_wine_type_loss: 0.0263 - val_wine_quality_root_mean_squared_error: 0.5622 - val_wine_type_accuracy: 0.9937\n",
            "Epoch 117/180\n",
            "3155/3155 [==============================] - 0s 89us/sample - loss: 0.2914 - wine_quality_loss: 0.2728 - wine_type_loss: 0.0184 - wine_quality_root_mean_squared_error: 0.5224 - wine_type_accuracy: 0.9968 - val_loss: 0.3392 - val_wine_quality_loss: 0.3124 - val_wine_type_loss: 0.0264 - val_wine_quality_root_mean_squared_error: 0.5590 - val_wine_type_accuracy: 0.9937\n",
            "Epoch 118/180\n",
            "3155/3155 [==============================] - 0s 71us/sample - loss: 0.2902 - wine_quality_loss: 0.2719 - wine_type_loss: 0.0184 - wine_quality_root_mean_squared_error: 0.5213 - wine_type_accuracy: 0.9968 - val_loss: 0.3518 - val_wine_quality_loss: 0.3244 - val_wine_type_loss: 0.0263 - val_wine_quality_root_mean_squared_error: 0.5702 - val_wine_type_accuracy: 0.9937\n",
            "Epoch 119/180\n",
            "3155/3155 [==============================] - 0s 89us/sample - loss: 0.2891 - wine_quality_loss: 0.2703 - wine_type_loss: 0.0183 - wine_quality_root_mean_squared_error: 0.5202 - wine_type_accuracy: 0.9968 - val_loss: 0.3353 - val_wine_quality_loss: 0.3083 - val_wine_type_loss: 0.0262 - val_wine_quality_root_mean_squared_error: 0.5556 - val_wine_type_accuracy: 0.9937\n",
            "Epoch 120/180\n",
            "3155/3155 [==============================] - 0s 87us/sample - loss: 0.2899 - wine_quality_loss: 0.2713 - wine_type_loss: 0.0182 - wine_quality_root_mean_squared_error: 0.5212 - wine_type_accuracy: 0.9968 - val_loss: 0.3415 - val_wine_quality_loss: 0.3143 - val_wine_type_loss: 0.0262 - val_wine_quality_root_mean_squared_error: 0.5613 - val_wine_type_accuracy: 0.9937\n",
            "Epoch 121/180\n",
            "3155/3155 [==============================] - 0s 73us/sample - loss: 0.2879 - wine_quality_loss: 0.2691 - wine_type_loss: 0.0182 - wine_quality_root_mean_squared_error: 0.5193 - wine_type_accuracy: 0.9968 - val_loss: 0.3365 - val_wine_quality_loss: 0.3097 - val_wine_type_loss: 0.0262 - val_wine_quality_root_mean_squared_error: 0.5567 - val_wine_type_accuracy: 0.9937\n",
            "Epoch 122/180\n",
            "3155/3155 [==============================] - 0s 88us/sample - loss: 0.2885 - wine_quality_loss: 0.2700 - wine_type_loss: 0.0182 - wine_quality_root_mean_squared_error: 0.5198 - wine_type_accuracy: 0.9968 - val_loss: 0.3450 - val_wine_quality_loss: 0.3179 - val_wine_type_loss: 0.0263 - val_wine_quality_root_mean_squared_error: 0.5643 - val_wine_type_accuracy: 0.9937\n",
            "Epoch 123/180\n",
            "3155/3155 [==============================] - 0s 73us/sample - loss: 0.2868 - wine_quality_loss: 0.2686 - wine_type_loss: 0.0181 - wine_quality_root_mean_squared_error: 0.5183 - wine_type_accuracy: 0.9968 - val_loss: 0.3369 - val_wine_quality_loss: 0.3098 - val_wine_type_loss: 0.0262 - val_wine_quality_root_mean_squared_error: 0.5571 - val_wine_type_accuracy: 0.9937\n",
            "Epoch 124/180\n",
            "3155/3155 [==============================] - 0s 89us/sample - loss: 0.2887 - wine_quality_loss: 0.2711 - wine_type_loss: 0.0180 - wine_quality_root_mean_squared_error: 0.5202 - wine_type_accuracy: 0.9968 - val_loss: 0.3392 - val_wine_quality_loss: 0.3122 - val_wine_type_loss: 0.0262 - val_wine_quality_root_mean_squared_error: 0.5592 - val_wine_type_accuracy: 0.9937\n",
            "Epoch 125/180\n",
            "3155/3155 [==============================] - 0s 87us/sample - loss: 0.2869 - wine_quality_loss: 0.2684 - wine_type_loss: 0.0179 - wine_quality_root_mean_squared_error: 0.5186 - wine_type_accuracy: 0.9971 - val_loss: 0.3429 - val_wine_quality_loss: 0.3159 - val_wine_type_loss: 0.0260 - val_wine_quality_root_mean_squared_error: 0.5627 - val_wine_type_accuracy: 0.9924\n",
            "Epoch 126/180\n",
            "3155/3155 [==============================] - 0s 74us/sample - loss: 0.2862 - wine_quality_loss: 0.2686 - wine_type_loss: 0.0179 - wine_quality_root_mean_squared_error: 0.5179 - wine_type_accuracy: 0.9968 - val_loss: 0.3394 - val_wine_quality_loss: 0.3127 - val_wine_type_loss: 0.0259 - val_wine_quality_root_mean_squared_error: 0.5596 - val_wine_type_accuracy: 0.9924\n",
            "Epoch 127/180\n",
            "3155/3155 [==============================] - 0s 87us/sample - loss: 0.2850 - wine_quality_loss: 0.2675 - wine_type_loss: 0.0178 - wine_quality_root_mean_squared_error: 0.5169 - wine_type_accuracy: 0.9968 - val_loss: 0.3472 - val_wine_quality_loss: 0.3204 - val_wine_type_loss: 0.0261 - val_wine_quality_root_mean_squared_error: 0.5664 - val_wine_type_accuracy: 0.9924\n",
            "Epoch 128/180\n",
            "3155/3155 [==============================] - 0s 73us/sample - loss: 0.2843 - wine_quality_loss: 0.2671 - wine_type_loss: 0.0177 - wine_quality_root_mean_squared_error: 0.5162 - wine_type_accuracy: 0.9968 - val_loss: 0.3363 - val_wine_quality_loss: 0.3092 - val_wine_type_loss: 0.0261 - val_wine_quality_root_mean_squared_error: 0.5566 - val_wine_type_accuracy: 0.9937\n",
            "Epoch 129/180\n",
            "3155/3155 [==============================] - 0s 87us/sample - loss: 0.2847 - wine_quality_loss: 0.2668 - wine_type_loss: 0.0177 - wine_quality_root_mean_squared_error: 0.5167 - wine_type_accuracy: 0.9968 - val_loss: 0.3491 - val_wine_quality_loss: 0.3220 - val_wine_type_loss: 0.0261 - val_wine_quality_root_mean_squared_error: 0.5681 - val_wine_type_accuracy: 0.9924\n",
            "Epoch 130/180\n",
            "3155/3155 [==============================] - 0s 72us/sample - loss: 0.2844 - wine_quality_loss: 0.2668 - wine_type_loss: 0.0175 - wine_quality_root_mean_squared_error: 0.5165 - wine_type_accuracy: 0.9968 - val_loss: 0.3437 - val_wine_quality_loss: 0.3168 - val_wine_type_loss: 0.0260 - val_wine_quality_root_mean_squared_error: 0.5634 - val_wine_type_accuracy: 0.9924\n",
            "Epoch 131/180\n",
            "3155/3155 [==============================] - 0s 89us/sample - loss: 0.2841 - wine_quality_loss: 0.2668 - wine_type_loss: 0.0175 - wine_quality_root_mean_squared_error: 0.5163 - wine_type_accuracy: 0.9968 - val_loss: 0.3373 - val_wine_quality_loss: 0.3108 - val_wine_type_loss: 0.0261 - val_wine_quality_root_mean_squared_error: 0.5576 - val_wine_type_accuracy: 0.9924\n",
            "Epoch 132/180\n",
            "3155/3155 [==============================] - 0s 87us/sample - loss: 0.2836 - wine_quality_loss: 0.2662 - wine_type_loss: 0.0174 - wine_quality_root_mean_squared_error: 0.5159 - wine_type_accuracy: 0.9968 - val_loss: 0.3470 - val_wine_quality_loss: 0.3202 - val_wine_type_loss: 0.0260 - val_wine_quality_root_mean_squared_error: 0.5663 - val_wine_type_accuracy: 0.9924\n",
            "Epoch 133/180\n",
            "3155/3155 [==============================] - 0s 73us/sample - loss: 0.2831 - wine_quality_loss: 0.2658 - wine_type_loss: 0.0173 - wine_quality_root_mean_squared_error: 0.5155 - wine_type_accuracy: 0.9968 - val_loss: 0.3491 - val_wine_quality_loss: 0.3221 - val_wine_type_loss: 0.0261 - val_wine_quality_root_mean_squared_error: 0.5681 - val_wine_type_accuracy: 0.9937\n",
            "Epoch 134/180\n",
            "3155/3155 [==============================] - 0s 87us/sample - loss: 0.2824 - wine_quality_loss: 0.2649 - wine_type_loss: 0.0173 - wine_quality_root_mean_squared_error: 0.5148 - wine_type_accuracy: 0.9971 - val_loss: 0.3402 - val_wine_quality_loss: 0.3139 - val_wine_type_loss: 0.0261 - val_wine_quality_root_mean_squared_error: 0.5602 - val_wine_type_accuracy: 0.9937\n",
            "Epoch 135/180\n",
            "3155/3155 [==============================] - 0s 72us/sample - loss: 0.2829 - wine_quality_loss: 0.2653 - wine_type_loss: 0.0172 - wine_quality_root_mean_squared_error: 0.5154 - wine_type_accuracy: 0.9971 - val_loss: 0.3406 - val_wine_quality_loss: 0.3137 - val_wine_type_loss: 0.0259 - val_wine_quality_root_mean_squared_error: 0.5607 - val_wine_type_accuracy: 0.9924\n",
            "Epoch 136/180\n",
            "3155/3155 [==============================] - 0s 87us/sample - loss: 0.2825 - wine_quality_loss: 0.2655 - wine_type_loss: 0.0172 - wine_quality_root_mean_squared_error: 0.5151 - wine_type_accuracy: 0.9971 - val_loss: 0.3451 - val_wine_quality_loss: 0.3186 - val_wine_type_loss: 0.0258 - val_wine_quality_root_mean_squared_error: 0.5647 - val_wine_type_accuracy: 0.9924\n",
            "Epoch 137/180\n",
            "3155/3155 [==============================] - 0s 73us/sample - loss: 0.2809 - wine_quality_loss: 0.2636 - wine_type_loss: 0.0182 - wine_quality_root_mean_squared_error: 0.5136 - wine_type_accuracy: 0.9971 - val_loss: 0.3369 - val_wine_quality_loss: 0.3105 - val_wine_type_loss: 0.0256 - val_wine_quality_root_mean_squared_error: 0.5577 - val_wine_type_accuracy: 0.9924\n",
            "Epoch 138/180\n",
            "3155/3155 [==============================] - 0s 89us/sample - loss: 0.2812 - wine_quality_loss: 0.2644 - wine_type_loss: 0.0170 - wine_quality_root_mean_squared_error: 0.5140 - wine_type_accuracy: 0.9971 - val_loss: 0.3398 - val_wine_quality_loss: 0.3132 - val_wine_type_loss: 0.0256 - val_wine_quality_root_mean_squared_error: 0.5602 - val_wine_type_accuracy: 0.9924\n",
            "Epoch 139/180\n",
            "3155/3155 [==============================] - 0s 88us/sample - loss: 0.2803 - wine_quality_loss: 0.2633 - wine_type_loss: 0.0170 - wine_quality_root_mean_squared_error: 0.5131 - wine_type_accuracy: 0.9971 - val_loss: 0.3353 - val_wine_quality_loss: 0.3088 - val_wine_type_loss: 0.0257 - val_wine_quality_root_mean_squared_error: 0.5561 - val_wine_type_accuracy: 0.9924\n",
            "Epoch 140/180\n",
            "3155/3155 [==============================] - 0s 72us/sample - loss: 0.2824 - wine_quality_loss: 0.2662 - wine_type_loss: 0.0169 - wine_quality_root_mean_squared_error: 0.5152 - wine_type_accuracy: 0.9971 - val_loss: 0.3397 - val_wine_quality_loss: 0.3131 - val_wine_type_loss: 0.0258 - val_wine_quality_root_mean_squared_error: 0.5600 - val_wine_type_accuracy: 0.9924\n",
            "Epoch 141/180\n",
            "3155/3155 [==============================] - 0s 89us/sample - loss: 0.2809 - wine_quality_loss: 0.2640 - wine_type_loss: 0.0168 - wine_quality_root_mean_squared_error: 0.5139 - wine_type_accuracy: 0.9971 - val_loss: 0.3403 - val_wine_quality_loss: 0.3136 - val_wine_type_loss: 0.0258 - val_wine_quality_root_mean_squared_error: 0.5605 - val_wine_type_accuracy: 0.9924\n",
            "Epoch 142/180\n",
            "3155/3155 [==============================] - 0s 74us/sample - loss: 0.2794 - wine_quality_loss: 0.2622 - wine_type_loss: 0.0167 - wine_quality_root_mean_squared_error: 0.5125 - wine_type_accuracy: 0.9971 - val_loss: 0.3409 - val_wine_quality_loss: 0.3141 - val_wine_type_loss: 0.0260 - val_wine_quality_root_mean_squared_error: 0.5609 - val_wine_type_accuracy: 0.9937\n",
            "Epoch 143/180\n",
            "3155/3155 [==============================] - 0s 89us/sample - loss: 0.2798 - wine_quality_loss: 0.2632 - wine_type_loss: 0.0167 - wine_quality_root_mean_squared_error: 0.5128 - wine_type_accuracy: 0.9971 - val_loss: 0.3369 - val_wine_quality_loss: 0.3102 - val_wine_type_loss: 0.0258 - val_wine_quality_root_mean_squared_error: 0.5574 - val_wine_type_accuracy: 0.9924\n",
            "Epoch 144/180\n",
            "3155/3155 [==============================] - 0s 86us/sample - loss: 0.2780 - wine_quality_loss: 0.2613 - wine_type_loss: 0.0167 - wine_quality_root_mean_squared_error: 0.5111 - wine_type_accuracy: 0.9971 - val_loss: 0.3438 - val_wine_quality_loss: 0.3171 - val_wine_type_loss: 0.0258 - val_wine_quality_root_mean_squared_error: 0.5636 - val_wine_type_accuracy: 0.9924\n",
            "Epoch 145/180\n",
            "3155/3155 [==============================] - 0s 73us/sample - loss: 0.2775 - wine_quality_loss: 0.2606 - wine_type_loss: 0.0166 - wine_quality_root_mean_squared_error: 0.5107 - wine_type_accuracy: 0.9971 - val_loss: 0.3518 - val_wine_quality_loss: 0.3250 - val_wine_type_loss: 0.0258 - val_wine_quality_root_mean_squared_error: 0.5706 - val_wine_type_accuracy: 0.9924\n",
            "Epoch 146/180\n",
            "3155/3155 [==============================] - 0s 87us/sample - loss: 0.2786 - wine_quality_loss: 0.2627 - wine_type_loss: 0.0166 - wine_quality_root_mean_squared_error: 0.5119 - wine_type_accuracy: 0.9971 - val_loss: 0.3345 - val_wine_quality_loss: 0.3080 - val_wine_type_loss: 0.0257 - val_wine_quality_root_mean_squared_error: 0.5554 - val_wine_type_accuracy: 0.9924\n",
            "Epoch 147/180\n",
            "3155/3155 [==============================] - 0s 73us/sample - loss: 0.2776 - wine_quality_loss: 0.2612 - wine_type_loss: 0.0165 - wine_quality_root_mean_squared_error: 0.5109 - wine_type_accuracy: 0.9971 - val_loss: 0.3381 - val_wine_quality_loss: 0.3116 - val_wine_type_loss: 0.0257 - val_wine_quality_root_mean_squared_error: 0.5587 - val_wine_type_accuracy: 0.9924\n",
            "Epoch 148/180\n",
            "3155/3155 [==============================] - 0s 88us/sample - loss: 0.2766 - wine_quality_loss: 0.2607 - wine_type_loss: 0.0164 - wine_quality_root_mean_squared_error: 0.5100 - wine_type_accuracy: 0.9971 - val_loss: 0.3553 - val_wine_quality_loss: 0.3288 - val_wine_type_loss: 0.0257 - val_wine_quality_root_mean_squared_error: 0.5738 - val_wine_type_accuracy: 0.9924\n",
            "Epoch 149/180\n",
            "3155/3155 [==============================] - 0s 73us/sample - loss: 0.2764 - wine_quality_loss: 0.2599 - wine_type_loss: 0.0163 - wine_quality_root_mean_squared_error: 0.5099 - wine_type_accuracy: 0.9971 - val_loss: 0.3396 - val_wine_quality_loss: 0.3129 - val_wine_type_loss: 0.0256 - val_wine_quality_root_mean_squared_error: 0.5601 - val_wine_type_accuracy: 0.9924\n",
            "Epoch 150/180\n",
            "3155/3155 [==============================] - 0s 88us/sample - loss: 0.2749 - wine_quality_loss: 0.2585 - wine_type_loss: 0.0163 - wine_quality_root_mean_squared_error: 0.5084 - wine_type_accuracy: 0.9971 - val_loss: 0.3385 - val_wine_quality_loss: 0.3122 - val_wine_type_loss: 0.0256 - val_wine_quality_root_mean_squared_error: 0.5592 - val_wine_type_accuracy: 0.9924\n",
            "Epoch 151/180\n",
            "3155/3155 [==============================] - 0s 73us/sample - loss: 0.2759 - wine_quality_loss: 0.2596 - wine_type_loss: 0.0162 - wine_quality_root_mean_squared_error: 0.5095 - wine_type_accuracy: 0.9971 - val_loss: 0.3360 - val_wine_quality_loss: 0.3097 - val_wine_type_loss: 0.0256 - val_wine_quality_root_mean_squared_error: 0.5568 - val_wine_type_accuracy: 0.9924\n",
            "Epoch 152/180\n",
            "3155/3155 [==============================] - 0s 88us/sample - loss: 0.2746 - wine_quality_loss: 0.2581 - wine_type_loss: 0.0162 - wine_quality_root_mean_squared_error: 0.5083 - wine_type_accuracy: 0.9971 - val_loss: 0.3393 - val_wine_quality_loss: 0.3131 - val_wine_type_loss: 0.0256 - val_wine_quality_root_mean_squared_error: 0.5598 - val_wine_type_accuracy: 0.9924\n",
            "Epoch 153/180\n",
            "3155/3155 [==============================] - 0s 89us/sample - loss: 0.2749 - wine_quality_loss: 0.2590 - wine_type_loss: 0.0161 - wine_quality_root_mean_squared_error: 0.5087 - wine_type_accuracy: 0.9971 - val_loss: 0.3587 - val_wine_quality_loss: 0.3322 - val_wine_type_loss: 0.0255 - val_wine_quality_root_mean_squared_error: 0.5770 - val_wine_type_accuracy: 0.9924\n",
            "Epoch 154/180\n",
            "3155/3155 [==============================] - 0s 73us/sample - loss: 0.2753 - wine_quality_loss: 0.2589 - wine_type_loss: 0.0160 - wine_quality_root_mean_squared_error: 0.5092 - wine_type_accuracy: 0.9971 - val_loss: 0.3380 - val_wine_quality_loss: 0.3118 - val_wine_type_loss: 0.0256 - val_wine_quality_root_mean_squared_error: 0.5587 - val_wine_type_accuracy: 0.9924\n",
            "Epoch 155/180\n",
            "3155/3155 [==============================] - 0s 90us/sample - loss: 0.2739 - wine_quality_loss: 0.2578 - wine_type_loss: 0.0160 - wine_quality_root_mean_squared_error: 0.5078 - wine_type_accuracy: 0.9971 - val_loss: 0.3402 - val_wine_quality_loss: 0.3141 - val_wine_type_loss: 0.0254 - val_wine_quality_root_mean_squared_error: 0.5608 - val_wine_type_accuracy: 0.9924\n",
            "Epoch 156/180\n",
            "3155/3155 [==============================] - 0s 89us/sample - loss: 0.2745 - wine_quality_loss: 0.2586 - wine_type_loss: 0.0159 - wine_quality_root_mean_squared_error: 0.5085 - wine_type_accuracy: 0.9971 - val_loss: 0.3425 - val_wine_quality_loss: 0.3158 - val_wine_type_loss: 0.0256 - val_wine_quality_root_mean_squared_error: 0.5627 - val_wine_type_accuracy: 0.9924\n",
            "Epoch 157/180\n",
            "3155/3155 [==============================] - 0s 73us/sample - loss: 0.2736 - wine_quality_loss: 0.2578 - wine_type_loss: 0.0159 - wine_quality_root_mean_squared_error: 0.5077 - wine_type_accuracy: 0.9971 - val_loss: 0.3483 - val_wine_quality_loss: 0.3219 - val_wine_type_loss: 0.0256 - val_wine_quality_root_mean_squared_error: 0.5678 - val_wine_type_accuracy: 0.9924\n",
            "Epoch 158/180\n",
            "3155/3155 [==============================] - 0s 91us/sample - loss: 0.2737 - wine_quality_loss: 0.2581 - wine_type_loss: 0.0158 - wine_quality_root_mean_squared_error: 0.5077 - wine_type_accuracy: 0.9971 - val_loss: 0.3370 - val_wine_quality_loss: 0.3107 - val_wine_type_loss: 0.0256 - val_wine_quality_root_mean_squared_error: 0.5578 - val_wine_type_accuracy: 0.9924\n",
            "Epoch 159/180\n",
            "3155/3155 [==============================] - 0s 91us/sample - loss: 0.2720 - wine_quality_loss: 0.2564 - wine_type_loss: 0.0158 - wine_quality_root_mean_squared_error: 0.5061 - wine_type_accuracy: 0.9971 - val_loss: 0.3440 - val_wine_quality_loss: 0.3180 - val_wine_type_loss: 0.0256 - val_wine_quality_root_mean_squared_error: 0.5640 - val_wine_type_accuracy: 0.9924\n",
            "Epoch 160/180\n",
            "3155/3155 [==============================] - 0s 73us/sample - loss: 0.2720 - wine_quality_loss: 0.2560 - wine_type_loss: 0.0162 - wine_quality_root_mean_squared_error: 0.5062 - wine_type_accuracy: 0.9971 - val_loss: 0.3447 - val_wine_quality_loss: 0.3180 - val_wine_type_loss: 0.0255 - val_wine_quality_root_mean_squared_error: 0.5647 - val_wine_type_accuracy: 0.9924\n",
            "Epoch 161/180\n",
            "3155/3155 [==============================] - 0s 113us/sample - loss: 0.2715 - wine_quality_loss: 0.2554 - wine_type_loss: 0.0157 - wine_quality_root_mean_squared_error: 0.5057 - wine_type_accuracy: 0.9971 - val_loss: 0.3438 - val_wine_quality_loss: 0.3174 - val_wine_type_loss: 0.0257 - val_wine_quality_root_mean_squared_error: 0.5638 - val_wine_type_accuracy: 0.9924\n",
            "Epoch 162/180\n",
            "3155/3155 [==============================] - 0s 73us/sample - loss: 0.2719 - wine_quality_loss: 0.2560 - wine_type_loss: 0.0157 - wine_quality_root_mean_squared_error: 0.5061 - wine_type_accuracy: 0.9971 - val_loss: 0.3398 - val_wine_quality_loss: 0.3133 - val_wine_type_loss: 0.0257 - val_wine_quality_root_mean_squared_error: 0.5601 - val_wine_type_accuracy: 0.9924\n",
            "Epoch 163/180\n",
            "3155/3155 [==============================] - 0s 86us/sample - loss: 0.2718 - wine_quality_loss: 0.2561 - wine_type_loss: 0.0156 - wine_quality_root_mean_squared_error: 0.5061 - wine_type_accuracy: 0.9971 - val_loss: 0.3437 - val_wine_quality_loss: 0.3170 - val_wine_type_loss: 0.0258 - val_wine_quality_root_mean_squared_error: 0.5636 - val_wine_type_accuracy: 0.9924\n",
            "Epoch 164/180\n",
            "3155/3155 [==============================] - 0s 72us/sample - loss: 0.2707 - wine_quality_loss: 0.2553 - wine_type_loss: 0.0156 - wine_quality_root_mean_squared_error: 0.5050 - wine_type_accuracy: 0.9971 - val_loss: 0.3469 - val_wine_quality_loss: 0.3203 - val_wine_type_loss: 0.0257 - val_wine_quality_root_mean_squared_error: 0.5665 - val_wine_type_accuracy: 0.9924\n",
            "Epoch 165/180\n",
            "3155/3155 [==============================] - 0s 86us/sample - loss: 0.2702 - wine_quality_loss: 0.2553 - wine_type_loss: 0.0155 - wine_quality_root_mean_squared_error: 0.5046 - wine_type_accuracy: 0.9971 - val_loss: 0.3362 - val_wine_quality_loss: 0.3100 - val_wine_type_loss: 0.0257 - val_wine_quality_root_mean_squared_error: 0.5570 - val_wine_type_accuracy: 0.9924\n",
            "Epoch 166/180\n",
            "3155/3155 [==============================] - 0s 72us/sample - loss: 0.2695 - wine_quality_loss: 0.2536 - wine_type_loss: 0.0155 - wine_quality_root_mean_squared_error: 0.5040 - wine_type_accuracy: 0.9971 - val_loss: 0.3451 - val_wine_quality_loss: 0.3192 - val_wine_type_loss: 0.0255 - val_wine_quality_root_mean_squared_error: 0.5650 - val_wine_type_accuracy: 0.9924\n",
            "Epoch 167/180\n",
            "3155/3155 [==============================] - 0s 87us/sample - loss: 0.2701 - wine_quality_loss: 0.2549 - wine_type_loss: 0.0154 - wine_quality_root_mean_squared_error: 0.5047 - wine_type_accuracy: 0.9971 - val_loss: 0.3444 - val_wine_quality_loss: 0.3182 - val_wine_type_loss: 0.0256 - val_wine_quality_root_mean_squared_error: 0.5643 - val_wine_type_accuracy: 0.9924\n",
            "Epoch 168/180\n",
            "3155/3155 [==============================] - 0s 72us/sample - loss: 0.2691 - wine_quality_loss: 0.2533 - wine_type_loss: 0.0154 - wine_quality_root_mean_squared_error: 0.5036 - wine_type_accuracy: 0.9971 - val_loss: 0.3394 - val_wine_quality_loss: 0.3133 - val_wine_type_loss: 0.0256 - val_wine_quality_root_mean_squared_error: 0.5599 - val_wine_type_accuracy: 0.9924\n",
            "Epoch 169/180\n",
            "3155/3155 [==============================] - 0s 86us/sample - loss: 0.2693 - wine_quality_loss: 0.2541 - wine_type_loss: 0.0153 - wine_quality_root_mean_squared_error: 0.5039 - wine_type_accuracy: 0.9971 - val_loss: 0.3396 - val_wine_quality_loss: 0.3131 - val_wine_type_loss: 0.0256 - val_wine_quality_root_mean_squared_error: 0.5601 - val_wine_type_accuracy: 0.9924\n",
            "Epoch 170/180\n",
            "3155/3155 [==============================] - 0s 73us/sample - loss: 0.2687 - wine_quality_loss: 0.2538 - wine_type_loss: 0.0152 - wine_quality_root_mean_squared_error: 0.5034 - wine_type_accuracy: 0.9971 - val_loss: 0.3481 - val_wine_quality_loss: 0.3218 - val_wine_type_loss: 0.0256 - val_wine_quality_root_mean_squared_error: 0.5676 - val_wine_type_accuracy: 0.9924\n",
            "Epoch 171/180\n",
            "3155/3155 [==============================] - 0s 88us/sample - loss: 0.2677 - wine_quality_loss: 0.2521 - wine_type_loss: 0.0152 - wine_quality_root_mean_squared_error: 0.5025 - wine_type_accuracy: 0.9971 - val_loss: 0.3397 - val_wine_quality_loss: 0.3135 - val_wine_type_loss: 0.0255 - val_wine_quality_root_mean_squared_error: 0.5602 - val_wine_type_accuracy: 0.9924\n",
            "Epoch 172/180\n",
            "3155/3155 [==============================] - 0s 72us/sample - loss: 0.2679 - wine_quality_loss: 0.2527 - wine_type_loss: 0.0152 - wine_quality_root_mean_squared_error: 0.5027 - wine_type_accuracy: 0.9971 - val_loss: 0.3480 - val_wine_quality_loss: 0.3219 - val_wine_type_loss: 0.0254 - val_wine_quality_root_mean_squared_error: 0.5677 - val_wine_type_accuracy: 0.9937\n",
            "Epoch 173/180\n",
            "3155/3155 [==============================] - 0s 87us/sample - loss: 0.2674 - wine_quality_loss: 0.2520 - wine_type_loss: 0.0151 - wine_quality_root_mean_squared_error: 0.5023 - wine_type_accuracy: 0.9971 - val_loss: 0.3420 - val_wine_quality_loss: 0.3162 - val_wine_type_loss: 0.0254 - val_wine_quality_root_mean_squared_error: 0.5624 - val_wine_type_accuracy: 0.9937\n",
            "Epoch 174/180\n",
            "3155/3155 [==============================] - 0s 71us/sample - loss: 0.2677 - wine_quality_loss: 0.2534 - wine_type_loss: 0.0151 - wine_quality_root_mean_squared_error: 0.5026 - wine_type_accuracy: 0.9971 - val_loss: 0.3388 - val_wine_quality_loss: 0.3128 - val_wine_type_loss: 0.0254 - val_wine_quality_root_mean_squared_error: 0.5595 - val_wine_type_accuracy: 0.9937\n",
            "Epoch 175/180\n",
            "3155/3155 [==============================] - 0s 89us/sample - loss: 0.2660 - wine_quality_loss: 0.2507 - wine_type_loss: 0.0149 - wine_quality_root_mean_squared_error: 0.5010 - wine_type_accuracy: 0.9971 - val_loss: 0.3392 - val_wine_quality_loss: 0.3130 - val_wine_type_loss: 0.0255 - val_wine_quality_root_mean_squared_error: 0.5598 - val_wine_type_accuracy: 0.9937\n",
            "Epoch 176/180\n",
            "3155/3155 [==============================] - 0s 87us/sample - loss: 0.2656 - wine_quality_loss: 0.2511 - wine_type_loss: 0.0150 - wine_quality_root_mean_squared_error: 0.5006 - wine_type_accuracy: 0.9971 - val_loss: 0.3429 - val_wine_quality_loss: 0.3168 - val_wine_type_loss: 0.0255 - val_wine_quality_root_mean_squared_error: 0.5631 - val_wine_type_accuracy: 0.9937\n",
            "Epoch 177/180\n",
            "3155/3155 [==============================] - 0s 73us/sample - loss: 0.2660 - wine_quality_loss: 0.2508 - wine_type_loss: 0.0149 - wine_quality_root_mean_squared_error: 0.5011 - wine_type_accuracy: 0.9971 - val_loss: 0.3400 - val_wine_quality_loss: 0.3141 - val_wine_type_loss: 0.0255 - val_wine_quality_root_mean_squared_error: 0.5605 - val_wine_type_accuracy: 0.9937\n",
            "Epoch 178/180\n",
            "3155/3155 [==============================] - 0s 88us/sample - loss: 0.2653 - wine_quality_loss: 0.2501 - wine_type_loss: 0.0148 - wine_quality_root_mean_squared_error: 0.5004 - wine_type_accuracy: 0.9971 - val_loss: 0.3405 - val_wine_quality_loss: 0.3145 - val_wine_type_loss: 0.0255 - val_wine_quality_root_mean_squared_error: 0.5609 - val_wine_type_accuracy: 0.9937\n",
            "Epoch 179/180\n",
            "3155/3155 [==============================] - 0s 72us/sample - loss: 0.2652 - wine_quality_loss: 0.2501 - wine_type_loss: 0.0148 - wine_quality_root_mean_squared_error: 0.5003 - wine_type_accuracy: 0.9971 - val_loss: 0.3421 - val_wine_quality_loss: 0.3157 - val_wine_type_loss: 0.0256 - val_wine_quality_root_mean_squared_error: 0.5623 - val_wine_type_accuracy: 0.9937\n",
            "Epoch 180/180\n",
            "3155/3155 [==============================] - 0s 86us/sample - loss: 0.2648 - wine_quality_loss: 0.2499 - wine_type_loss: 0.0152 - wine_quality_root_mean_squared_error: 0.5000 - wine_type_accuracy: 0.9971 - val_loss: 0.3405 - val_wine_quality_loss: 0.3144 - val_wine_type_loss: 0.0255 - val_wine_quality_root_mean_squared_error: 0.5610 - val_wine_type_accuracy: 0.9937\n"
          ],
          "name": "stdout"
        }
      ]
    },
    {
      "cell_type": "code",
      "metadata": {
        "deletable": false,
        "editable": false,
        "nbgrader": {
          "cell_type": "code",
          "checksum": "fadad8896eda9c8c2115970724b15508",
          "grade": true,
          "grade_id": "cell-eb4d5b41bef8f0ab",
          "locked": true,
          "points": 1,
          "schema_version": 3,
          "solution": false,
          "task": false
        },
        "id": "vh2APqiEyE5z",
        "outputId": "c4968264-1986-4725-b2f7-c0aec8eb1d2b"
      },
      "source": [
        "utils.test_history(history)"
      ],
      "execution_count": null,
      "outputs": [
        {
          "output_type": "stream",
          "text": [
            "\u001b[92m All public tests passed\n"
          ],
          "name": "stdout"
        }
      ]
    },
    {
      "cell_type": "code",
      "metadata": {
        "id": "CubF2J2gSf6q",
        "outputId": "652ed5c6-9ea1-4902-db67-e34fb3a809d4"
      },
      "source": [
        "# Gather the training metrics\n",
        "loss, wine_quality_loss, wine_type_loss, wine_quality_rmse, wine_type_accuracy = model.evaluate(x=norm_val_X, y=val_Y)\n",
        "\n",
        "print()\n",
        "print(f'loss: {loss}')\n",
        "print(f'wine_quality_loss: {wine_quality_loss}')\n",
        "print(f'wine_type_loss: {wine_type_loss}')\n",
        "print(f'wine_quality_rmse: {wine_quality_rmse}')\n",
        "print(f'wine_type_accuracy: {wine_type_accuracy}')\n",
        "\n",
        "# EXPECTED VALUES\n",
        "# ~ 0.30 - 0.38\n",
        "# ~ 0.30 - 0.38\n",
        "# ~ 0.018 - 0.030\n",
        "# ~ 0.50 - 0.62\n",
        "# ~ 0.97 - 1.0\n",
        "\n",
        "# Example:\n",
        "#0.3657050132751465\n",
        "#0.3463745415210724\n",
        "#0.019330406561493874\n",
        "#0.5885359048843384\n",
        "#0.9974651336669922"
      ],
      "execution_count": null,
      "outputs": [
        {
          "output_type": "stream",
          "text": [
            "789/789 [==============================] - 0s 20us/sample - loss: 0.3405 - wine_quality_loss: 0.3144 - wine_type_loss: 0.0255 - wine_quality_root_mean_squared_error: 0.5610 - wine_type_accuracy: 0.9937\n",
            "\n",
            "loss: 0.3404934070485022\n",
            "wine_quality_loss: 0.31438231468200684\n",
            "wine_type_loss: 0.025465048849582672\n",
            "wine_quality_rmse: 0.5609800815582275\n",
            "wine_type_accuracy: 0.9936628937721252\n"
          ],
          "name": "stdout"
        }
      ]
    },
    {
      "cell_type": "markdown",
      "metadata": {
        "id": "gPtTGAP4usnm"
      },
      "source": [
        "## Analyze the Model Performance\n",
        "\n",
        "Note that the model has two outputs. The output at index 0 is quality and index 1 is wine type\n",
        "\n",
        "So, round the quality predictions to the nearest integer."
      ]
    },
    {
      "cell_type": "code",
      "metadata": {
        "id": "tBq9PEeAaW-Y"
      },
      "source": [
        "predictions = model.predict(norm_test_X)\n",
        "quality_pred = predictions[0]\n",
        "type_pred = predictions[1]"
      ],
      "execution_count": null,
      "outputs": []
    },
    {
      "cell_type": "code",
      "metadata": {
        "id": "YLhgTR4xTIxj",
        "outputId": "1b87c8b4-3477-4bd1-c003-714af00b6f78"
      },
      "source": [
        "print(quality_pred[0])\n",
        "\n",
        "# EXPECTED OUTPUT\n",
        "# 5.6 - 6.0"
      ],
      "execution_count": null,
      "outputs": [
        {
          "output_type": "stream",
          "text": [
            "[5.739288]\n"
          ],
          "name": "stdout"
        }
      ]
    },
    {
      "cell_type": "code",
      "metadata": {
        "id": "MPi-eYfGTUXi",
        "outputId": "f59be37d-41f7-4a7f-c537-edb9cddf1546"
      },
      "source": [
        "print(type_pred[0])\n",
        "print(type_pred[944])\n",
        "\n",
        "# EXPECTED OUTPUT\n",
        "# A number close to zero\n",
        "# A number close to or equal to 1"
      ],
      "execution_count": null,
      "outputs": [
        {
          "output_type": "stream",
          "text": [
            "[7.042102e-05]\n",
            "[0.9999888]\n"
          ],
          "name": "stdout"
        }
      ]
    },
    {
      "cell_type": "markdown",
      "metadata": {
        "id": "Kohk-9C6vt_s"
      },
      "source": [
        "### Plot Utilities\n",
        "\n",
        "We define a few utilities to visualize the model performance."
      ]
    },
    {
      "cell_type": "code",
      "metadata": {
        "id": "62gEOFUhn6aQ"
      },
      "source": [
        "def plot_metrics(metric_name, title, ylim=5):\n",
        "    plt.title(title)\n",
        "    plt.ylim(0,ylim)\n",
        "    plt.plot(history.history[metric_name],color='blue',label=metric_name)\n",
        "    plt.plot(history.history['val_' + metric_name],color='green',label='val_' + metric_name)\n"
      ],
      "execution_count": null,
      "outputs": []
    },
    {
      "cell_type": "code",
      "metadata": {
        "id": "6rfgSx7uz5dj"
      },
      "source": [
        "def plot_confusion_matrix(y_true, y_pred, title='', labels=[0,1]):\n",
        "    cm = confusion_matrix(y_true, y_pred)\n",
        "    fig = plt.figure()\n",
        "    ax = fig.add_subplot(111)\n",
        "    cax = ax.matshow(cm)\n",
        "    plt.title('Confusion matrix of the classifier')\n",
        "    fig.colorbar(cax)\n",
        "    ax.set_xticklabels([''] + labels)\n",
        "    ax.set_yticklabels([''] + labels)\n",
        "    plt.xlabel('Predicted')\n",
        "    plt.ylabel('True')\n",
        "    fmt = 'd'\n",
        "    thresh = cm.max() / 2.\n",
        "    for i, j in itertools.product(range(cm.shape[0]), range(cm.shape[1])):\n",
        "          plt.text(j, i, format(cm[i, j], fmt),\n",
        "                  horizontalalignment=\"center\",\n",
        "                  color=\"black\" if cm[i, j] > thresh else \"white\")\n",
        "    plt.show()"
      ],
      "execution_count": null,
      "outputs": []
    },
    {
      "cell_type": "code",
      "metadata": {
        "id": "dfVLIqi017Vf"
      },
      "source": [
        "def plot_diff(y_true, y_pred, title = '' ):\n",
        "    plt.scatter(y_true, y_pred)\n",
        "    plt.title(title)\n",
        "    plt.xlabel('True Values')\n",
        "    plt.ylabel('Predictions')\n",
        "    plt.axis('equal')\n",
        "    plt.axis('square')\n",
        "    plt.plot([-100, 100], [-100, 100])\n",
        "    return plt"
      ],
      "execution_count": null,
      "outputs": []
    },
    {
      "cell_type": "markdown",
      "metadata": {
        "id": "8sd1jdFbwE0I"
      },
      "source": [
        "### Plots for Metrics"
      ]
    },
    {
      "cell_type": "code",
      "metadata": {
        "id": "f3MwZ5J1pOfj",
        "outputId": "ac351145-459a-4420-811a-2c8f18c5a367"
      },
      "source": [
        "plot_metrics('wine_quality_root_mean_squared_error', 'RMSE', ylim=2)"
      ],
      "execution_count": null,
      "outputs": [
        {
          "output_type": "display_data",
          "data": {
            "image/png": "[encoded data removed]",
            "text/plain": [
              "<Figure size 432x288 with 1 Axes>"
            ]
          },
          "metadata": {
            "tags": [],
            "needs_background": "light"
          }
        }
      ]
    },
    {
      "cell_type": "code",
      "metadata": {
        "id": "QIAxEezCppnd",
        "outputId": "7d82b765-0c54-4deb-ca38-124d2f935685"
      },
      "source": [
        "plot_metrics('wine_type_loss', 'Wine Type Loss', ylim=0.2)"
      ],
      "execution_count": null,
      "outputs": [
        {
          "output_type": "display_data",
          "data": {
            "image/png": "[encoded data removed]",
            "text/plain": [
              "<Figure size 432x288 with 1 Axes>"
            ]
          },
          "metadata": {
            "tags": [],
            "needs_background": "light"
          }
        }
      ]
    },
    {
      "cell_type": "markdown",
      "metadata": {
        "id": "uYV9AOAMwI9p"
      },
      "source": [
        "### Plots for Confusion Matrix\n",
        "\n",
        "Plot the confusion matrices for wine type. You can see that the model performs well for prediction of wine type from the confusion matrix and the loss metrics."
      ]
    },
    {
      "cell_type": "code",
      "metadata": {
        "id": "C3hvTYxIaf3n",
        "outputId": "c8226c88-84b3-43f8-faa7-b5b4426c4914"
      },
      "source": [
        "plot_confusion_matrix(test_Y[1], np.round(type_pred), title='Wine Type', labels = [0, 1])"
      ],
      "execution_count": null,
      "outputs": [
        {
          "output_type": "display_data",
          "data": {
            "image/png": "[encoded data removed]",
            "text/plain": [
              "<Figure size 432x288 with 2 Axes>"
            ]
          },
          "metadata": {
            "tags": [],
            "needs_background": "light"
          }
        }
      ]
    },
    {
      "cell_type": "code",
      "metadata": {
        "id": "GW91ym8P2I5y",
        "outputId": "cb151ee3-4d31-4c06-8b44-c1b245b4714c"
      },
      "source": [
        "scatter_plot = plot_diff(test_Y[0], quality_pred, title='Type')"
      ],
      "execution_count": null,
      "outputs": [
        {
          "output_type": "display_data",
          "data": {
            "image/png": "[encoded data removed]",
            "text/plain": [
              "<Figure size 432x288 with 1 Axes>"
            ]
          },
          "metadata": {
            "tags": [],
            "needs_background": "light"
          }
        }
      ]
    },
    {
      "cell_type": "code",
      "metadata": {
        "id": "B3P8hFVgyE56"
      },
      "source": [
        ""
      ],
      "execution_count": null,
      "outputs": []
    }
  ]
}